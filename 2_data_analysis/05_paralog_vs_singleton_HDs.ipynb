{
 "cells": [
  {
   "cell_type": "markdown",
   "metadata": {},
   "source": [
    "## Homozygous deletions of paralog vs. singleton passenger genes"
   ]
  },
  {
   "cell_type": "code",
   "execution_count": 1,
   "metadata": {},
   "outputs": [],
   "source": [
    "import pandas as pd\n",
    "import os\n",
    "import numpy as np\n",
    "import scipy.stats as stats\n",
    "import seaborn as sns\n",
    "import matplotlib.pyplot as plt\n",
    "import random\n",
    "import itertools\n",
    "import re\n",
    "import sys\n",
    "sys.path.append(\"../1_data_processing\")\n",
    "import warnings\n",
    "warnings.simplefilter(\"ignore\")\n",
    "\n",
    "import graphing_params as gp\n",
    "import processing_utils as util\n",
    "import analysis_utils as au\n",
    "%load_ext autoreload\n",
    "%autoreload 1\n",
    "%aimport graphing_params\n",
    "%aimport processing_utils\n",
    "%aimport analysis_utils\n",
    "\n",
    "get_data_path = lambda folders, fname: os.path.normpath(os.environ['THIRD_PARTY_DIR']+'/'+'/'.join(folders) +'/'+fname)\n",
    "get_local_data_path = lambda folders, fname: os.path.normpath('../local_data/' +'/'.join(folders) +'/'+ fname)\n",
    "\n",
    "genome_v = 'hg19'\n",
    "ens_v = '93'\n",
    "\n",
    "file_annot_genes = get_local_data_path(['processed'], 'HGNC_gene_annot_ens93_hg19.csv')\n",
    "file_chrom_info = get_local_data_path(['processed'], 'hg19_chrom_info.csv')\n",
    "file_gene_HDs = get_local_data_path(['processed'], 'all_gene_HDs.csv')\n",
    "folder_hd_maps = lambda fname: get_local_data_path(['processed','HD_maps'], fname)"
   ]
  },
  {
   "cell_type": "markdown",
   "metadata": {},
   "source": [
    "### Load annotated genes"
   ]
  },
  {
   "cell_type": "code",
   "execution_count": 2,
   "metadata": {},
   "outputs": [
    {
     "name": "stdout",
     "output_type": "stream",
     "text": [
      "N genes: 17572\n",
      "N TSG: 411\n",
      "N drivers: 652\n",
      "N passenger genes: 16898\n",
      "Paralogs: 10588 = 62.66%\n"
     ]
    },
    {
     "data": {
      "text/html": [
       "<div>\n",
       "<style scoped>\n",
       "    .dataframe tbody tr th:only-of-type {\n",
       "        vertical-align: middle;\n",
       "    }\n",
       "\n",
       "    .dataframe tbody tr th {\n",
       "        vertical-align: top;\n",
       "    }\n",
       "\n",
       "    .dataframe thead th {\n",
       "        text-align: right;\n",
       "    }\n",
       "</style>\n",
       "<table border=\"1\" class=\"dataframe\">\n",
       "  <thead>\n",
       "    <tr style=\"text-align: right;\">\n",
       "      <th></th>\n",
       "      <th>symbol</th>\n",
       "      <th>entrez_id</th>\n",
       "      <th>ensembl_id</th>\n",
       "      <th>chr</th>\n",
       "      <th>cds_from</th>\n",
       "      <th>cds_to</th>\n",
       "      <th>ccds_id</th>\n",
       "      <th>cds_len</th>\n",
       "      <th>cds_mid</th>\n",
       "      <th>n_paralogs</th>\n",
       "      <th>...</th>\n",
       "      <th>depmap_ess</th>\n",
       "      <th>depmap_ess_cat</th>\n",
       "      <th>ess_gt</th>\n",
       "      <th>ess_3D</th>\n",
       "      <th>TSG_CGC</th>\n",
       "      <th>TSG_Bailey</th>\n",
       "      <th>TSG</th>\n",
       "      <th>OG</th>\n",
       "      <th>within_driver</th>\n",
       "      <th>outside_bounds</th>\n",
       "    </tr>\n",
       "  </thead>\n",
       "  <tbody>\n",
       "    <tr>\n",
       "      <th>0</th>\n",
       "      <td>A1BG</td>\n",
       "      <td>1</td>\n",
       "      <td>ENSG00000121410</td>\n",
       "      <td>19</td>\n",
       "      <td>58858387</td>\n",
       "      <td>58864802</td>\n",
       "      <td>CCDS12976</td>\n",
       "      <td>6415</td>\n",
       "      <td>58861594.5</td>\n",
       "      <td>NaN</td>\n",
       "      <td>...</td>\n",
       "      <td>False</td>\n",
       "      <td>never</td>\n",
       "      <td>False</td>\n",
       "      <td>False</td>\n",
       "      <td>False</td>\n",
       "      <td>False</td>\n",
       "      <td>False</td>\n",
       "      <td>False</td>\n",
       "      <td>False</td>\n",
       "      <td>False</td>\n",
       "    </tr>\n",
       "  </tbody>\n",
       "</table>\n",
       "<p>1 rows × 23 columns</p>\n",
       "</div>"
      ],
      "text/plain": [
       "  symbol  entrez_id       ensembl_id  chr  cds_from    cds_to    ccds_id  \\\n",
       "0   A1BG          1  ENSG00000121410   19  58858387  58864802  CCDS12976   \n",
       "\n",
       "   cds_len     cds_mid  n_paralogs  ... depmap_ess  depmap_ess_cat  ess_gt  \\\n",
       "0     6415  58861594.5         NaN  ...      False           never   False   \n",
       "\n",
       "  ess_3D TSG_CGC TSG_Bailey    TSG     OG  within_driver  outside_bounds  \n",
       "0  False   False      False  False  False          False           False  \n",
       "\n",
       "[1 rows x 23 columns]"
      ]
     },
     "metadata": {},
     "output_type": "display_data"
    }
   ],
   "source": [
    "genes = pd.read_csv(file_annot_genes)\n",
    "passenger_genes = genes[~genes.TSG & ~genes.within_driver & ~genes.outside_bounds & ~genes.OG]\n",
    "driver_genes = genes[genes.TSG | genes.OG]\n",
    "print('N genes:', genes.shape[0])\n",
    "print('N TSG:', sum(genes.TSG))\n",
    "print('N drivers:', sum(genes.TSG | genes.OG))\n",
    "print('N passenger genes:', passenger_genes.shape[0])\n",
    "#print('N passenger genes in driver pair:', sum(passenger_genes.in_driver_pair))\n",
    "print('Paralogs: %d = %.2f%%' % (sum(passenger_genes.paralog), sum(passenger_genes.paralog)/passenger_genes.shape[0]*100))\n",
    "display(genes[:1])"
   ]
  },
  {
   "cell_type": "markdown",
   "metadata": {},
   "source": [
    "### Compute number of HDs for each gene"
   ]
  },
  {
   "cell_type": "code",
   "execution_count": 3,
   "metadata": {},
   "outputs": [],
   "source": [
    "def compute_gene_dels(hd_map, part_hd_map=pd.DataFrame()):\n",
    "    hds = util.count_dels_per_gene(hd_map, genes)\n",
    "    if part_hd_map.shape[0]>0:\n",
    "        partial_hds = util.count_dels_per_gene(part_hd_map, genes).rename(columns={'n_del':'n_part_del'})\n",
    "        hds = pd.merge(hds, partial_hds[['symbol','n_part_del']])\n",
    "    passenger_hds = hds[hds.symbol.isin(passenger_genes.symbol)].reset_index(drop=True)\n",
    "    return hds, passenger_hds"
   ]
  },
  {
   "cell_type": "markdown",
   "metadata": {},
   "source": [
    "#### 1. TCGA"
   ]
  },
  {
   "cell_type": "code",
   "execution_count": 4,
   "metadata": {},
   "outputs": [
    {
     "name": "stdout",
     "output_type": "stream",
     "text": [
      "N HDs: 11641\n",
      "N samples: 2780\n"
     ]
    },
    {
     "data": {
      "text/html": [
       "<div>\n",
       "<style scoped>\n",
       "    .dataframe tbody tr th:only-of-type {\n",
       "        vertical-align: middle;\n",
       "    }\n",
       "\n",
       "    .dataframe tbody tr th {\n",
       "        vertical-align: top;\n",
       "    }\n",
       "\n",
       "    .dataframe thead th {\n",
       "        text-align: right;\n",
       "    }\n",
       "</style>\n",
       "<table border=\"1\" class=\"dataframe\">\n",
       "  <thead>\n",
       "    <tr style=\"text-align: right;\">\n",
       "      <th></th>\n",
       "      <th>name</th>\n",
       "      <th>patient</th>\n",
       "      <th>cancer_type</th>\n",
       "      <th>barcodeTumour</th>\n",
       "      <th>chr</th>\n",
       "      <th>startpos</th>\n",
       "      <th>endpos</th>\n",
       "      <th>del_len</th>\n",
       "      <th>ploidy</th>\n",
       "      <th>purity</th>\n",
       "      <th>WGD</th>\n",
       "      <th>genes</th>\n",
       "    </tr>\n",
       "  </thead>\n",
       "  <tbody>\n",
       "    <tr>\n",
       "      <th>0</th>\n",
       "      <td>TCGA-02-0001</td>\n",
       "      <td>TCGA-02-0001</td>\n",
       "      <td>GBM</td>\n",
       "      <td>TCGA-02-0001-01C-01D-0182-01</td>\n",
       "      <td>9</td>\n",
       "      <td>21907786</td>\n",
       "      <td>22259623</td>\n",
       "      <td>351837</td>\n",
       "      <td>2.3329</td>\n",
       "      <td>0.58</td>\n",
       "      <td>0</td>\n",
       "      <td>[1029, 1030]</td>\n",
       "    </tr>\n",
       "  </tbody>\n",
       "</table>\n",
       "</div>"
      ],
      "text/plain": [
       "           name       patient cancer_type                 barcodeTumour  chr  \\\n",
       "0  TCGA-02-0001  TCGA-02-0001         GBM  TCGA-02-0001-01C-01D-0182-01    9   \n",
       "\n",
       "   startpos    endpos  del_len  ploidy  purity WGD         genes  \n",
       "0  21907786  22259623   351837  2.3329    0.58   0  [1029, 1030]  "
      ]
     },
     "execution_count": 4,
     "metadata": {},
     "output_type": "execute_result"
    }
   ],
   "source": [
    "tcga_hd_map = util.deserialize_map(folder_hd_maps(\"tcga_hd_map.csv\"))\n",
    "print('N HDs:', tcga_hd_map.shape[0])\n",
    "print('N samples:', tcga_hd_map[tcga_hd_map.genes.apply(lambda x: len(x)>0)]['patient'].nunique())\n",
    "tcga_part_hd_map = util.deserialize_map(folder_hd_maps(\"tcga_part_hd_map.csv\"))\n",
    "tcga_hd_map[:1]"
   ]
  },
  {
   "cell_type": "code",
   "execution_count": 5,
   "metadata": {},
   "outputs": [
    {
     "name": "stdout",
     "output_type": "stream",
     "text": [
      "Median num genes deleted per HD segments: 3.0\n"
     ]
    }
   ],
   "source": [
    "print('Median num genes deleted per HD segments:', \n",
    "      tcga_hd_map[tcga_hd_map.genes.apply(lambda x: len(x)>0)].genes.apply(lambda x: len(x)).median())"
   ]
  },
  {
   "cell_type": "code",
   "execution_count": 6,
   "metadata": {},
   "outputs": [
    {
     "name": "stdout",
     "output_type": "stream",
     "text": [
      "N genes deleted 1+ times: 6012\n",
      "N passenger genes deleted 1+ times: 5747\n",
      "N TSGs deleted 1+ times: 188\n",
      "N TSGs deleted 3+ times: 77\n"
     ]
    }
   ],
   "source": [
    "tcga, tcga_pass = compute_gene_dels(tcga_hd_map, tcga_part_hd_map)\n",
    "print('N genes deleted 1+ times:', sum(tcga.n_del>=1))\n",
    "print('N passenger genes deleted 1+ times:', sum(tcga_pass.n_del>=1))\n",
    "print('N TSGs deleted 1+ times:', sum(tcga[tcga.TSG].n_del>=1))\n",
    "print('N TSGs deleted 3+ times:', sum(tcga[tcga.TSG].n_del>=3))"
   ]
  },
  {
   "cell_type": "code",
   "execution_count": 7,
   "metadata": {},
   "outputs": [
    {
     "data": {
      "image/png": "[encoded data removed]",
      "text/plain": [
       "<Figure size 250x150 with 1 Axes>"
      ]
     },
     "metadata": {},
     "output_type": "display_data"
    }
   ],
   "source": [
    "f, ax = plt.subplots(1, 1, figsize=(2.5, 1.5))\n",
    "tcga_pass.n_del.astype(int).clip(upper=10).value_counts().sort_index().plot.bar(color=gp.get_color('blue'), rot=0, width=.9)\n",
    "labels = [t.get_text() for t in ax.get_xticklabels()]; labels[10]='10+'; ax.set_xticklabels(labels);\n",
    "gp.set_axis_props(ax, ylabel='N. genes', xlabel='N. HDs'); ax.set_ylim([0,12000]);"
   ]
  },
  {
   "cell_type": "markdown",
   "metadata": {},
   "source": [
    "#### Check whether TCGA HDs are all focal"
   ]
  },
  {
   "cell_type": "code",
   "execution_count": 8,
   "metadata": {},
   "outputs": [],
   "source": [
    "chrom_info = pd.read_csv(file_chrom_info)\n",
    "chrom_info = chrom_info[~chrom_info.chr.isin(['X','Y'])].astype({'chr':int})\n",
    "chrom_info['half_arm1_len'] = chrom_info['centStart'] * 0.5\n",
    "chrom_info['half_arm2_len'] = (chrom_info['size'] - chrom_info['centEnd']) * 0.5"
   ]
  },
  {
   "cell_type": "code",
   "execution_count": 9,
   "metadata": {},
   "outputs": [],
   "source": [
    "tcga_hd_map2 = pd.merge(tcga_hd_map, chrom_info[['chr','centEnd','half_arm1_len','half_arm2_len']])\n",
    "tcga_hd_map2['focal'] = tcga_hd_map2.apply(\n",
    "    lambda x: x.del_len < x.half_arm1_len if x.endpos < x.centEnd else x.del_len < x.half_arm2_len, axis=1)\n",
    "assert(tcga_hd_map2[tcga_hd_map2.focal==False].shape[0]==0)"
   ]
  },
  {
   "cell_type": "markdown",
   "metadata": {},
   "source": [
    "#### 2. ICGC"
   ]
  },
  {
   "cell_type": "code",
   "execution_count": 10,
   "metadata": {},
   "outputs": [
    {
     "name": "stdout",
     "output_type": "stream",
     "text": [
      "N samples w/ gene HDs: 525\n"
     ]
    }
   ],
   "source": [
    "icgc_hd_map = util.deserialize_map(folder_hd_maps(\"icgc_hd_map.csv\"))\n",
    "print('N samples w/ gene HDs:', icgc_hd_map[icgc_hd_map.genes.apply(lambda x: len(x)>0)]['icgc_donor_id'].nunique())"
   ]
  },
  {
   "cell_type": "code",
   "execution_count": 11,
   "metadata": {},
   "outputs": [
    {
     "name": "stdout",
     "output_type": "stream",
     "text": [
      "N genes deleted 1+ times: 2092\n",
      "N passenger genes deleted 1+ times: 1966\n"
     ]
    }
   ],
   "source": [
    "icgc, icgc_pass = compute_gene_dels(icgc_hd_map)\n",
    "print('N genes deleted 1+ times:', sum(icgc.n_del>=1))\n",
    "print('N passenger genes deleted 1+ times:', sum(icgc_pass.n_del>=1))"
   ]
  },
  {
   "cell_type": "markdown",
   "metadata": {},
   "source": [
    "#### 3. All HDs - merge into one large gene deletions resource"
   ]
  },
  {
   "cell_type": "code",
   "execution_count": 12,
   "metadata": {},
   "outputs": [],
   "source": [
    "all_gene_hds = pd.merge(tcga, icgc[['symbol','n_del']], on='symbol')\n",
    "all_gene_hds['n_del'] = all_gene_hds.n_del_x + all_gene_hds.n_del_y\n",
    "passenger_hds = all_gene_hds[all_gene_hds.symbol.isin(passenger_genes.symbol)]\n",
    "all_gene_hds.to_csv(file_gene_HDs, index=0)"
   ]
  },
  {
   "cell_type": "code",
   "execution_count": 13,
   "metadata": {},
   "outputs": [
    {
     "data": {
      "image/png": "[encoded data removed]",
      "text/plain": [
       "<Figure size 230x150 with 1 Axes>"
      ]
     },
     "metadata": {},
     "output_type": "display_data"
    }
   ],
   "source": [
    "f, ax = plt.subplots(1, 1, figsize=(2.3, 1.5))\n",
    "ctab = pd.crosstab(passenger_hds.paralog, passenger_hds.n_del>0, normalize='index')*100\n",
    "ctab.iloc[:,1].plot.barh(ax=ax, color=['#9BB4D0','#4EC3B1'], width=0.8)\n",
    "ax.set_xlim([0,50]); ax.set_xticks([0,25,50]); ax.set_yticklabels(['Singleton','Paralog'])\n",
    "gp.set_axis_props(ax, xlabel='Passenger genes with\\n1+ observed HDs (%)', ylabel='', ytick_fontsize=9, show_yticks=False)\n",
    "plt.tight_layout()"
   ]
  },
  {
   "cell_type": "code",
   "execution_count": 14,
   "metadata": {},
   "outputs": [
    {
     "name": "stdout",
     "output_type": "stream",
     "text": [
      "99th percentile of gene-deleting HD lengths: 10.75 Mb (TCGA)\n"
     ]
    }
   ],
   "source": [
    "print('99th percentile of gene-deleting HD lengths: %.2f Mb (TCGA)' % \n",
    "      (tcga_hd_map[tcga_hd_map.genes.apply(lambda x: len(x)>0)].del_len.quantile(0.99)/1000000))"
   ]
  },
  {
   "cell_type": "code",
   "execution_count": 15,
   "metadata": {
    "scrolled": true
   },
   "outputs": [
    {
     "data": {
      "image/png": "[encoded data removed]",
      "text/plain": [
       "<Figure size 260x150 with 1 Axes>"
      ]
     },
     "metadata": {},
     "output_type": "display_data"
    }
   ],
   "source": [
    "f, ax = plt.subplots(1, 1, figsize=(2.6, 1.5))\n",
    "df = pd.concat([tcga_hd_map[tcga_hd_map.genes.apply(lambda x: len(x)>0)][['del_len']], \n",
    "                icgc_hd_map[icgc_hd_map.genes.apply(lambda x: len(x)>0)][['del_len']]]).reset_index(drop=True)\n",
    "sns.histplot(df.del_len/1000000, binwidth=1, color='#bbb')\n",
    "gp.set_axis_props(ax, xlabel='HD segment length (Mb)', ylabel='N. segments', \n",
    "                  title='All gene-deleting segments\\n(n='+str(df.shape[0])+')'); ax.set_ylim([-100,3300])\n",
    "plt.savefig('../figures/hg_lengths.png', bbox_inches='tight', dpi=500)"
   ]
  },
  {
   "cell_type": "markdown",
   "metadata": {},
   "source": [
    "### All passengers HDs -- percentage paralogs"
   ]
  },
  {
   "cell_type": "code",
   "execution_count": 16,
   "metadata": {},
   "outputs": [],
   "source": [
    "def draw_hd_plot(gene_hds, ax1, ax2, n_del='n_del', title='', bins=['0','1+','3+'], clr='blue', yloc=70):\n",
    "    df = au.compute_del_proportions(gene_hds, bins=bins, n_del=n_del)\n",
    "    FET = au.compute_del_FETs(df, bins=bins)\n",
    "    au.draw_gene_pct_graph(df, ax1, yoffset=12, clr=clr); ax1.set_ylim([0,100])\n",
    "    au.draw_paralog_pct_graph(df, ax2, gene_hds, xlab='Samples with\\ngene HD', clr=clr)\n",
    "    gp.draw_signif_FET(0,1,yloc,yloc, FET.loc[1,'OR_par'], FET.loc[1,'pval_par'], ax2, color=gp.get_color(clr))\n",
    "    gp.draw_signif_FET(0,2,yloc+7,yloc+7, FET.loc[2,'OR_par'], FET.loc[2,'pval_par'], ax2, color=gp.get_color(clr))\n",
    "    ax1.set_title(title, fontsize=9)\n",
    "    return FET"
   ]
  },
  {
   "cell_type": "code",
   "execution_count": 17,
   "metadata": {},
   "outputs": [
    {
     "data": {
      "image/png": "[encoded data removed]",
      "text/plain": [
       "<Figure size 360x340 with 4 Axes>"
      ]
     },
     "metadata": {},
     "output_type": "display_data"
    }
   ],
   "source": [
    "f, ax = plt.subplots(2, 2, figsize=(3.6,3.4), sharex=True, gridspec_kw={'height_ratios':[0.7,1]}); ax=ax.flatten()\n",
    "FET1 = draw_hd_plot(tcga_pass, ax[0], ax[2], title='TCGA\\n(n=9,951)')\n",
    "FET2 = draw_hd_plot(icgc_pass, ax[1], ax[3], title='ICGC\\n(n=1,774)')\n",
    "plt.tight_layout(w_pad=2)\n",
    "plt.savefig('../figures/gene_hds.png', bbox_inches='tight', dpi=500, transparent=True)"
   ]
  },
  {
   "cell_type": "code",
   "execution_count": 18,
   "metadata": {},
   "outputs": [
    {
     "data": {
      "text/html": [
       "<div>\n",
       "<style scoped>\n",
       "    .dataframe tbody tr th:only-of-type {\n",
       "        vertical-align: middle;\n",
       "    }\n",
       "\n",
       "    .dataframe tbody tr th {\n",
       "        vertical-align: top;\n",
       "    }\n",
       "\n",
       "    .dataframe thead th {\n",
       "        text-align: right;\n",
       "    }\n",
       "</style>\n",
       "<table border=\"1\" class=\"dataframe\">\n",
       "  <thead>\n",
       "    <tr style=\"text-align: right;\">\n",
       "      <th></th>\n",
       "      <th>OR_par</th>\n",
       "      <th>pval_par</th>\n",
       "      <th>OR_ess</th>\n",
       "      <th>pval_ess</th>\n",
       "    </tr>\n",
       "  </thead>\n",
       "  <tbody>\n",
       "    <tr>\n",
       "      <th>1</th>\n",
       "      <td>1.304766</td>\n",
       "      <td>4.413041e-15</td>\n",
       "      <td>0.412144</td>\n",
       "      <td>3.014864e-07</td>\n",
       "    </tr>\n",
       "    <tr>\n",
       "      <th>2</th>\n",
       "      <td>1.427074</td>\n",
       "      <td>1.832180e-09</td>\n",
       "      <td>0.128166</td>\n",
       "      <td>1.588365e-06</td>\n",
       "    </tr>\n",
       "  </tbody>\n",
       "</table>\n",
       "</div>"
      ],
      "text/plain": [
       "     OR_par      pval_par    OR_ess      pval_ess\n",
       "1  1.304766  4.413041e-15  0.412144  3.014864e-07\n",
       "2  1.427074  1.832180e-09  0.128166  1.588365e-06"
      ]
     },
     "execution_count": 18,
     "metadata": {},
     "output_type": "execute_result"
    }
   ],
   "source": [
    "FET1"
   ]
  },
  {
   "cell_type": "code",
   "execution_count": 19,
   "metadata": {},
   "outputs": [
    {
     "data": {
      "text/html": [
       "<div>\n",
       "<style scoped>\n",
       "    .dataframe tbody tr th:only-of-type {\n",
       "        vertical-align: middle;\n",
       "    }\n",
       "\n",
       "    .dataframe tbody tr th {\n",
       "        vertical-align: top;\n",
       "    }\n",
       "\n",
       "    .dataframe thead th {\n",
       "        text-align: right;\n",
       "    }\n",
       "</style>\n",
       "<table border=\"1\" class=\"dataframe\">\n",
       "  <thead>\n",
       "    <tr style=\"text-align: right;\">\n",
       "      <th></th>\n",
       "      <th>OR_par</th>\n",
       "      <th>pval_par</th>\n",
       "      <th>OR_ess</th>\n",
       "      <th>pval_ess</th>\n",
       "    </tr>\n",
       "  </thead>\n",
       "  <tbody>\n",
       "    <tr>\n",
       "      <th>1</th>\n",
       "      <td>1.239104</td>\n",
       "      <td>0.000022</td>\n",
       "      <td>0.260999</td>\n",
       "      <td>0.000036</td>\n",
       "    </tr>\n",
       "    <tr>\n",
       "      <th>2</th>\n",
       "      <td>1.578080</td>\n",
       "      <td>0.000686</td>\n",
       "      <td>0.000000</td>\n",
       "      <td>0.035067</td>\n",
       "    </tr>\n",
       "  </tbody>\n",
       "</table>\n",
       "</div>"
      ],
      "text/plain": [
       "     OR_par  pval_par    OR_ess  pval_ess\n",
       "1  1.239104  0.000022  0.260999  0.000036\n",
       "2  1.578080  0.000686  0.000000  0.035067"
      ]
     },
     "execution_count": 19,
     "metadata": {},
     "output_type": "execute_result"
    }
   ],
   "source": [
    "FET2"
   ]
  },
  {
   "cell_type": "markdown",
   "metadata": {},
   "source": [
    "#### After filtering out potentially confounding HDs"
   ]
  },
  {
   "cell_type": "code",
   "execution_count": 20,
   "metadata": {},
   "outputs": [],
   "source": [
    "tcga_hd_map_annot = util.deserialize_map(folder_hd_maps(\"tcga_hd_map_annot.csv\"))"
   ]
  },
  {
   "cell_type": "code",
   "execution_count": 21,
   "metadata": {},
   "outputs": [],
   "source": [
    "# Recompute gene dels excluding TSG AND fragile site HD events, don't need to filter further from background\n",
    "tcga_pass_filt = util.count_dels_per_gene(tcga_hd_map_annot[tcga_hd_map_annot['to_drop']==False], passenger_genes)"
   ]
  },
  {
   "cell_type": "code",
   "execution_count": 22,
   "metadata": {},
   "outputs": [
    {
     "data": {
      "image/png": "[encoded data removed]",
      "text/plain": [
       "<Figure size 180x340 with 2 Axes>"
      ]
     },
     "metadata": {},
     "output_type": "display_data"
    }
   ],
   "source": [
    "f, ax = plt.subplots(2, 1, figsize=(1.8,3.4), sharex=True, gridspec_kw={'height_ratios':[0.7,1]})\n",
    "OR = draw_hd_plot(tcga_pass_filt, ax[0], ax[1], title='TCGA\\n(filtered HDs)')\n",
    "plt.tight_layout()\n",
    "plt.savefig('../figures/tcga_gene_dels_filt.png', bbox_inches='tight', dpi=500, transparent=True)"
   ]
  },
  {
   "cell_type": "markdown",
   "metadata": {},
   "source": [
    "#### Per cancer type"
   ]
  },
  {
   "cell_type": "code",
   "execution_count": 23,
   "metadata": {},
   "outputs": [],
   "source": [
    "cancer_types = []\n",
    "for ct in tcga_hd_map.cancer_type.value_counts().iteritems():\n",
    "    if ct[1]>600:\n",
    "        cancer_types.append(ct)"
   ]
  },
  {
   "cell_type": "code",
   "execution_count": 24,
   "metadata": {},
   "outputs": [
    {
     "data": {
      "image/png": "[encoded data removed]",
      "text/plain": [
       "<Figure size 700x330 with 18 Axes>"
      ]
     },
     "metadata": {},
     "output_type": "display_data"
    }
   ],
   "source": [
    "ncts=len(cancer_types)\n",
    "f, ax = plt.subplots(2, ncts, figsize=(7,3.3), sharex=True, gridspec_kw={'height_ratios':[0.7,1]}); ax=ax.flatten()\n",
    "for i, ct in enumerate(cancer_types):\n",
    "    gene_dels_ct = util.count_dels_per_gene(tcga_hd_map[tcga_hd_map.cancer_type==ct[0]], passenger_genes)\n",
    "    df = au.compute_del_proportions(gene_dels_ct, bins=['0','1+'])\n",
    "    FET = au.compute_del_FETs(df, bins=['0','1+'])\n",
    "    au.draw_gene_pct_graph(df, ax[i], yoffset=12); ax[i].set_ylim([0,100])\n",
    "    au.draw_paralog_pct_graph(df, ax[i+ncts], passenger_genes)\n",
    "    gp.draw_signif_FET(0, 1, 77, 77, FET.loc[1,'OR_par'], FET.loc[1,'pval_par'], ax[i+ncts], color=gp.get_color('blue'))\n",
    "    if i > 0: \n",
    "        gp.set_axis_props(ax[i], ylabel='', show_yticks=False, show_yticklabels=False)\n",
    "        gp.set_axis_props(ax[i+ncts], ylabel='', show_yticks=False, show_yticklabels=False)\n",
    "    ax[i].set_title(ct[0]+'\\n(n='+str(ct[1])+')\\n', fontsize=9); ax[i+ncts].set_xlabel('')\n",
    "f.text(0.53, 0, 'Samples with gene HD', rotation=0, va=\"center\", ha='center', fontsize=9)\n",
    "plt.tight_layout(w_pad=0.5)\n",
    "plt.savefig('../figures/tcga_gene_dels_by_cancer.png', bbox_inches='tight', dpi=500)"
   ]
  },
  {
   "cell_type": "markdown",
   "metadata": {},
   "source": [
    "### Paralog passenger HDs -- % essential vs. non-essential paralogs"
   ]
  },
  {
   "cell_type": "code",
   "execution_count": 25,
   "metadata": {},
   "outputs": [],
   "source": [
    "def draw_hd_ess_plot(gene_hds, ax, ess_col, title='', bins=['0','1+','3+'], yoffset=0.5):\n",
    "    gene_hds = gene_hds.dropna(subset=[ess_col])\n",
    "    df = au.compute_del_proportions(gene_hds, ess_col=ess_col, bins=bins)\n",
    "    FET = au.compute_del_FETs(df, bins=bins)\n",
    "    au.draw_ess_paralog_pct_graph(df, ax, gene_hds, ess_col=ess_col, title=title+'\\n(n='+str(sum((gene_hds[ess_col]==True) & (gene_hds['paralog']==True) ))+')')\n",
    "    yloc = df.iloc[0,1]+yoffset\n",
    "    gp.draw_signif_FET(0, 1, yloc, yloc, FET.loc[1,'OR_ess'], FET.loc[1,'pval_ess'], ax, yoffset=.9, color=gp.get_color('do'))\n",
    "    gp.draw_signif_FET(0, 2, yloc+2, yloc+2, FET.loc[2,'OR_ess'], FET.loc[2,'pval_ess'], ax,yoffset=.9,color=gp.get_color('do'))\n",
    "    return FET"
   ]
  },
  {
   "cell_type": "code",
   "execution_count": 26,
   "metadata": {},
   "outputs": [
    {
     "data": {
      "image/png": "[encoded data removed]",
      "text/plain": [
       "<Figure size 460x230 with 3 Axes>"
      ]
     },
     "metadata": {},
     "output_type": "display_data"
    }
   ],
   "source": [
    "f, ax = plt.subplots(1, 3, figsize=(4.6,2.3))\n",
    "FET=draw_hd_ess_plot(tcga_pass, ax[0], ess_col='depmap_ess', title='DepMap\\nCRISPR')\n",
    "draw_hd_ess_plot(tcga_pass, ax[1], ess_col='ess_gt', title='Blomen et al.\\ngene trap')\n",
    "draw_hd_ess_plot(tcga_pass, ax[2], ess_col='ess_3D', title='Han et al.\\n3D CRISPR')\n",
    "for i in range(0,3): ax[i].set_ylim([-.2,10])\n",
    "for i in range(1,3): ax[i].set_ylabel('')\n",
    "plt.tight_layout(w_pad=2)\n",
    "plt.savefig('../figures/tcga_essential_dels.png', bbox_inches='tight', dpi=500)"
   ]
  },
  {
   "cell_type": "code",
   "execution_count": 27,
   "metadata": {},
   "outputs": [
    {
     "data": {
      "text/html": [
       "<div>\n",
       "<style scoped>\n",
       "    .dataframe tbody tr th:only-of-type {\n",
       "        vertical-align: middle;\n",
       "    }\n",
       "\n",
       "    .dataframe tbody tr th {\n",
       "        vertical-align: top;\n",
       "    }\n",
       "\n",
       "    .dataframe thead th {\n",
       "        text-align: right;\n",
       "    }\n",
       "</style>\n",
       "<table border=\"1\" class=\"dataframe\">\n",
       "  <thead>\n",
       "    <tr style=\"text-align: right;\">\n",
       "      <th></th>\n",
       "      <th>OR_par</th>\n",
       "      <th>pval_par</th>\n",
       "      <th>OR_ess</th>\n",
       "      <th>pval_ess</th>\n",
       "    </tr>\n",
       "  </thead>\n",
       "  <tbody>\n",
       "    <tr>\n",
       "      <th>1</th>\n",
       "      <td>1.274277</td>\n",
       "      <td>3.318028e-12</td>\n",
       "      <td>0.422441</td>\n",
       "      <td>6.146895e-07</td>\n",
       "    </tr>\n",
       "    <tr>\n",
       "      <th>2</th>\n",
       "      <td>1.332752</td>\n",
       "      <td>2.802670e-06</td>\n",
       "      <td>0.136523</td>\n",
       "      <td>3.386248e-06</td>\n",
       "    </tr>\n",
       "  </tbody>\n",
       "</table>\n",
       "</div>"
      ],
      "text/plain": [
       "     OR_par      pval_par    OR_ess      pval_ess\n",
       "1  1.274277  3.318028e-12  0.422441  6.146895e-07\n",
       "2  1.332752  2.802670e-06  0.136523  3.386248e-06"
      ]
     },
     "execution_count": 27,
     "metadata": {},
     "output_type": "execute_result"
    }
   ],
   "source": [
    "FET"
   ]
  },
  {
   "cell_type": "code",
   "execution_count": 28,
   "metadata": {},
   "outputs": [
    {
     "data": {
      "image/png": "[encoded data removed]",
      "text/plain": [
       "<Figure size 460x230 with 3 Axes>"
      ]
     },
     "metadata": {},
     "output_type": "display_data"
    }
   ],
   "source": [
    "f, ax = plt.subplots(1, 3, figsize=(4.6,2.3))\n",
    "FET=draw_hd_ess_plot(icgc_pass, ax[0], ess_col='depmap_ess', title='DepMap\\nCRISPR')\n",
    "draw_hd_ess_plot(icgc_pass, ax[1], ess_col='ess_gt', title='Blomen et al.\\ngene trap')\n",
    "draw_hd_ess_plot(icgc_pass, ax[2], ess_col='ess_3D', title='Han et al.\\n3D CRISPR')\n",
    "for i in range(0,3): ax[i].set_ylim([-.2,10])\n",
    "for i in range(1,3): ax[i].set_ylabel('')\n",
    "plt.tight_layout(w_pad=2)\n",
    "plt.savefig('../figures/icgc_essential_dels.png', bbox_inches='tight', dpi=500)"
   ]
  },
  {
   "cell_type": "code",
   "execution_count": 29,
   "metadata": {},
   "outputs": [
    {
     "data": {
      "text/html": [
       "<div>\n",
       "<style scoped>\n",
       "    .dataframe tbody tr th:only-of-type {\n",
       "        vertical-align: middle;\n",
       "    }\n",
       "\n",
       "    .dataframe tbody tr th {\n",
       "        vertical-align: top;\n",
       "    }\n",
       "\n",
       "    .dataframe thead th {\n",
       "        text-align: right;\n",
       "    }\n",
       "</style>\n",
       "<table border=\"1\" class=\"dataframe\">\n",
       "  <thead>\n",
       "    <tr style=\"text-align: right;\">\n",
       "      <th></th>\n",
       "      <th>OR_par</th>\n",
       "      <th>pval_par</th>\n",
       "      <th>OR_ess</th>\n",
       "      <th>pval_ess</th>\n",
       "    </tr>\n",
       "  </thead>\n",
       "  <tbody>\n",
       "    <tr>\n",
       "      <th>1</th>\n",
       "      <td>1.186124</td>\n",
       "      <td>0.001025</td>\n",
       "      <td>0.269626</td>\n",
       "      <td>0.000073</td>\n",
       "    </tr>\n",
       "    <tr>\n",
       "      <th>2</th>\n",
       "      <td>1.316320</td>\n",
       "      <td>0.057305</td>\n",
       "      <td>0.000000</td>\n",
       "      <td>0.083132</td>\n",
       "    </tr>\n",
       "  </tbody>\n",
       "</table>\n",
       "</div>"
      ],
      "text/plain": [
       "     OR_par  pval_par    OR_ess  pval_ess\n",
       "1  1.186124  0.001025  0.269626  0.000073\n",
       "2  1.316320  0.057305  0.000000  0.083132"
      ]
     },
     "execution_count": 29,
     "metadata": {},
     "output_type": "execute_result"
    }
   ],
   "source": [
    "FET"
   ]
  },
  {
   "cell_type": "markdown",
   "metadata": {},
   "source": [
    "### Gene length vs. n deletions"
   ]
  },
  {
   "cell_type": "code",
   "execution_count": 30,
   "metadata": {},
   "outputs": [
    {
     "name": "stdout",
     "output_type": "stream",
     "text": [
      "Full: SpearmanrResult(correlation=0.030711724135319654, pvalue=6.526063804636395e-05)\n",
      "Partial: SpearmanrResult(correlation=0.1610324553875208, pvalue=1.5291093884940336e-98)\n"
     ]
    }
   ],
   "source": [
    "print('Full:', stats.spearmanr(tcga_pass.cds_len, tcga_pass.n_del))\n",
    "print('Partial:', stats.spearmanr(tcga_pass.cds_len, tcga_pass.n_part_del))"
   ]
  },
  {
   "cell_type": "code",
   "execution_count": 31,
   "metadata": {},
   "outputs": [
    {
     "name": "stdout",
     "output_type": "stream",
     "text": [
      "MannwhitneyuResult(statistic=34648733.0, pvalue=2.790181674651483e-05)\n",
      "Avg length: 57.8kb vs. 42.4kb\n"
     ]
    },
    {
     "data": {
      "image/png": "[encoded data removed]",
      "text/plain": [
       "<Figure size 150x200 with 1 Axes>"
      ]
     },
     "metadata": {},
     "output_type": "display_data"
    }
   ],
   "source": [
    "f, ax = plt.subplots(1, 1, figsize=(1.5,2), sharey=True)\n",
    "print(stats.mannwhitneyu(genes[genes.paralog].cds_len, genes[~genes.paralog].cds_len))\n",
    "print('Avg length: %.1fkb vs. %.1fkb' % (genes[genes.paralog].cds_len.mean()/1000, genes[~genes.paralog].cds_len.mean()/1000))\n",
    "df = genes.assign(cds_len = genes.cds_len/1000)\n",
    "sns.boxplot(data=df, x='paralog', y='cds_len', showfliers=False, **gp.get_boxplot_props(), ax=ax, color='#ddd')\n",
    "ax.set_ylabel('CDS length (kb)')\n",
    "plt.tight_layout()"
   ]
  },
  {
   "cell_type": "code",
   "execution_count": null,
   "metadata": {},
   "outputs": [],
   "source": []
  }
 ],
 "metadata": {
  "kernelspec": {
   "display_name": "Python 3 (ipykernel)",
   "language": "python",
   "name": "python3"
  },
  "language_info": {
   "codemirror_mode": {
    "name": "ipython",
    "version": 3
   },
   "file_extension": ".py",
   "mimetype": "text/x-python",
   "name": "python",
   "nbconvert_exporter": "python",
   "pygments_lexer": "ipython3",
   "version": "3.7.16"
  }
 },
 "nbformat": 4,
 "nbformat_minor": 2
}
