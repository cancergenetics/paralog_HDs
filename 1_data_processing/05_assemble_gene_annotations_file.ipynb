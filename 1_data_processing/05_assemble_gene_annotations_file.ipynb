{
 "cells": [
  {
   "cell_type": "markdown",
   "metadata": {},
   "source": [
    "## Protein-coding genes on autosomes, with annotations\n",
    "Annotate all genes from HGNC map with: \n",
    "- coding sequence info\n",
    "- paralog info (incl. seq id and duplication mode)\n",
    "- essentiality info\n",
    "- cancer driver info"
   ]
  },
  {
   "cell_type": "code",
   "execution_count": 5,
   "metadata": {},
   "outputs": [
    {
     "name": "stdout",
     "output_type": "stream",
     "text": [
      "The autoreload extension is already loaded. To reload it, use:\n",
      "  %reload_ext autoreload\n"
     ]
    }
   ],
   "source": [
    "import numpy as np\n",
    "import pandas as pd\n",
    "import scipy.stats as stats\n",
    "import os\n",
    "import warnings\n",
    "warnings.simplefilter(\"ignore\")\n",
    "from matplotlib_venn import venn2, venn3, venn3_circles\n",
    "import matplotlib.pyplot as plt\n",
    "import re\n",
    "import seaborn as sns\n",
    "\n",
    "import processing_utils as util\n",
    "%load_ext autoreload\n",
    "%autoreload 1\n",
    "%aimport processing_utils\n",
    "\n",
    "get_local_data_path = lambda folders, fname: os.path.normpath('../local_data/' +'/'.join(folders) +'/'+ fname)\n",
    "get_data_path = lambda folders, fname: os.path.normpath(os.environ['THIRD_PARTY_DIR']+'/'+'/'.join(folders) +'/'+ fname)\n",
    "\n",
    "\n",
    "file_gene_id_map = get_data_path(['HGNC'], 'hgnc_complete_set_2021-07-01.txt')\n",
    "\n",
    "file_paralog_genes = get_local_data_path(['processed','ensembl_93'], 'all_paralog_genes_min20.csv')\n",
    "file_ccds = get_data_path(['ccds_gene_annotations'], 'hg19.txt')\n",
    "file_ascat_segment_bounds = get_local_data_path(['processed','TCGA','ASCAT'], 'segment_boundaries.csv')\n",
    "\n",
    "# Essentiality\n",
    "file_depmap_gene_scores = get_data_path(['depmap','20Q2'], 'gene_scores_16_04_21.csv')\n",
    "file_bassik_3d_crispr = get_data_path(['han_2020_3d_crispr'], 'TableS1.xlsx')\n",
    "file_blomen = lambda n: get_data_path(['blomen_2015'], 'aac7557_sm_table_s'+str(n)+'.xlsx') # gene trap method\n",
    "\n",
    "# Drivers\n",
    "file_cosmic_drivers = get_data_path(['COSMIC','v95'], 'Census_allWed Feb 23 22_04_39 2022.tsv') # hg38\n",
    "file_bailey_drivers = get_data_path(['TCGA'], 'Bailey_2018_supplemental_tables.xlsx') # Table S1\n",
    "\n",
    "# OUTPUT\n",
    "file_gene_annot = get_local_data_path(['processed'], 'HGNC_gene_annot_ens93_hg19.csv')"
   ]
  },
  {
   "cell_type": "markdown",
   "metadata": {},
   "source": [
    "### Symbols + IDs"
   ]
  },
  {
   "cell_type": "code",
   "execution_count": 6,
   "metadata": {},
   "outputs": [
    {
     "name": "stdout",
     "output_type": "stream",
     "text": [
      "N genes: 19167\n"
     ]
    },
    {
     "data": {
      "text/html": [
       "<div>\n",
       "<style scoped>\n",
       "    .dataframe tbody tr th:only-of-type {\n",
       "        vertical-align: middle;\n",
       "    }\n",
       "\n",
       "    .dataframe tbody tr th {\n",
       "        vertical-align: top;\n",
       "    }\n",
       "\n",
       "    .dataframe thead th {\n",
       "        text-align: right;\n",
       "    }\n",
       "</style>\n",
       "<table border=\"1\" class=\"dataframe\">\n",
       "  <thead>\n",
       "    <tr style=\"text-align: right;\">\n",
       "      <th></th>\n",
       "      <th>symbol</th>\n",
       "      <th>entrez_id</th>\n",
       "      <th>ensembl_id</th>\n",
       "    </tr>\n",
       "  </thead>\n",
       "  <tbody>\n",
       "    <tr>\n",
       "      <th>0</th>\n",
       "      <td>A1BG</td>\n",
       "      <td>1</td>\n",
       "      <td>ENSG00000121410</td>\n",
       "    </tr>\n",
       "  </tbody>\n",
       "</table>\n",
       "</div>"
      ],
      "text/plain": [
       "  symbol  entrez_id       ensembl_id\n",
       "0   A1BG          1  ENSG00000121410"
      ]
     },
     "execution_count": 6,
     "metadata": {},
     "output_type": "execute_result"
    }
   ],
   "source": [
    "# All protein-coding genes\n",
    "gene_id_map = pd.read_csv(file_gene_id_map, sep='\\t')[['symbol','entrez_id','ensembl_gene_id','locus_type']]\n",
    "gene_id_map = gene_id_map[gene_id_map.locus_type=='gene with protein product'].drop(columns=['locus_type'])\\\n",
    "                         .dropna(subset=['entrez_id','ensembl_gene_id']).astype({'entrez_id':'int'})\\\n",
    "                         .rename(columns={'ensembl_gene_id':'ensembl_id'}).reset_index(drop=True)\n",
    "print('N genes:', gene_id_map.symbol.nunique())\n",
    "gene_id_map[:1]"
   ]
  },
  {
   "cell_type": "markdown",
   "metadata": {},
   "source": [
    "### CCDS"
   ]
  },
  {
   "cell_type": "code",
   "execution_count": 7,
   "metadata": {},
   "outputs": [
    {
     "name": "stdout",
     "output_type": "stream",
     "text": [
      "N: 18393\n"
     ]
    },
    {
     "data": {
      "text/html": [
       "<div>\n",
       "<style scoped>\n",
       "    .dataframe tbody tr th:only-of-type {\n",
       "        vertical-align: middle;\n",
       "    }\n",
       "\n",
       "    .dataframe tbody tr th {\n",
       "        vertical-align: top;\n",
       "    }\n",
       "\n",
       "    .dataframe thead th {\n",
       "        text-align: right;\n",
       "    }\n",
       "</style>\n",
       "<table border=\"1\" class=\"dataframe\">\n",
       "  <thead>\n",
       "    <tr style=\"text-align: right;\">\n",
       "      <th></th>\n",
       "      <th>chr</th>\n",
       "      <th>entrez_id</th>\n",
       "      <th>cds_from</th>\n",
       "      <th>cds_to</th>\n",
       "      <th>ccds_id</th>\n",
       "      <th>cds_len</th>\n",
       "    </tr>\n",
       "  </thead>\n",
       "  <tbody>\n",
       "    <tr>\n",
       "      <th>0</th>\n",
       "      <td>1</td>\n",
       "      <td>79501</td>\n",
       "      <td>69090</td>\n",
       "      <td>70007</td>\n",
       "      <td>CCDS30547</td>\n",
       "      <td>917</td>\n",
       "    </tr>\n",
       "  </tbody>\n",
       "</table>\n",
       "</div>"
      ],
      "text/plain": [
       "  chr  entrez_id  cds_from  cds_to    ccds_id  cds_len\n",
       "0   1      79501     69090   70007  CCDS30547      917"
      ]
     },
     "metadata": {},
     "output_type": "display_data"
    }
   ],
   "source": [
    "ccds_all = util.load_ccds(file_ccds)\n",
    "ccds_all['ccds_id'] = ccds_all['ccds_id'].apply(lambda x: x.split('.')[0])\n",
    "ccds = ccds_all[(ccds_all.entrez_id.isin(gene_id_map.entrez_id))].reset_index(drop=True)\n",
    "print('N:', ccds.shape[0])\n",
    "display(ccds[:1])"
   ]
  },
  {
   "cell_type": "markdown",
   "metadata": {},
   "source": [
    "### Gene essentiality\n",
    "#### 1. DepMap"
   ]
  },
  {
   "cell_type": "code",
   "execution_count": 8,
   "metadata": {},
   "outputs": [],
   "source": [
    "ceres_scores = pd.read_csv(file_depmap_gene_scores, index_col=0)"
   ]
  },
  {
   "cell_type": "code",
   "execution_count": 9,
   "metadata": {},
   "outputs": [],
   "source": [
    "depmap = ceres_scores.apply(lambda x: sum(x<-0.6)/ceres_scores.shape[0]*100)\n",
    "depmap = depmap.reset_index(name='pct').rename(columns={'index':'entrez_id'})\n",
    "depmap['depmap_ess_cat'] = depmap.pct.apply(lambda x: 'broadly' if x >90 else 'never' if x==0 else 'sometimes')\n",
    "depmap['depmap_ess'] = depmap['depmap_ess_cat'] == 'broadly'"
   ]
  },
  {
   "cell_type": "code",
   "execution_count": 10,
   "metadata": {},
   "outputs": [
    {
     "name": "stdout",
     "output_type": "stream",
     "text": [
      "N DepMap 20Q2 broadly essential: 972 / 16438\n"
     ]
    },
    {
     "data": {
      "text/html": [
       "<div>\n",
       "<style scoped>\n",
       "    .dataframe tbody tr th:only-of-type {\n",
       "        vertical-align: middle;\n",
       "    }\n",
       "\n",
       "    .dataframe tbody tr th {\n",
       "        vertical-align: top;\n",
       "    }\n",
       "\n",
       "    .dataframe thead th {\n",
       "        text-align: right;\n",
       "    }\n",
       "</style>\n",
       "<table border=\"1\" class=\"dataframe\">\n",
       "  <thead>\n",
       "    <tr style=\"text-align: right;\">\n",
       "      <th></th>\n",
       "      <th>entrez_id</th>\n",
       "      <th>pct</th>\n",
       "      <th>depmap_ess_cat</th>\n",
       "      <th>depmap_ess</th>\n",
       "    </tr>\n",
       "  </thead>\n",
       "  <tbody>\n",
       "    <tr>\n",
       "      <th>0</th>\n",
       "      <td>1</td>\n",
       "      <td>0.0</td>\n",
       "      <td>never</td>\n",
       "      <td>False</td>\n",
       "    </tr>\n",
       "  </tbody>\n",
       "</table>\n",
       "</div>"
      ],
      "text/plain": [
       "  entrez_id  pct depmap_ess_cat  depmap_ess\n",
       "0         1  0.0          never       False"
      ]
     },
     "execution_count": 10,
     "metadata": {},
     "output_type": "execute_result"
    }
   ],
   "source": [
    "print('N DepMap 20Q2 broadly essential:', sum(depmap.depmap_ess), '/', depmap.shape[0])\n",
    "depmap[:1]"
   ]
  },
  {
   "cell_type": "markdown",
   "metadata": {},
   "source": [
    "#### 2. Bassik lab 3D CRISPR\n",
    "Note: different gene ids for same ensembl id!"
   ]
  },
  {
   "cell_type": "code",
   "execution_count": 11,
   "metadata": {},
   "outputs": [],
   "source": [
    "bassik_h23_3d = pd.read_excel(file_bassik_3d_crispr, engine='openpyxl', sheet_name='H23 3D Genome-wide data')"
   ]
  },
  {
   "cell_type": "code",
   "execution_count": 12,
   "metadata": {},
   "outputs": [],
   "source": [
    "bassik_h1975_3d = pd.read_excel(file_bassik_3d_crispr, engine='openpyxl', sheet_name='H1975 3D Genome-wide data')"
   ]
  },
  {
   "cell_type": "code",
   "execution_count": 13,
   "metadata": {},
   "outputs": [],
   "source": [
    "bassik_h2009_3d = pd.read_excel(file_bassik_3d_crispr, engine='openpyxl', sheet_name='H2009 3D Genome-wide data')"
   ]
  },
  {
   "cell_type": "code",
   "execution_count": 14,
   "metadata": {},
   "outputs": [
    {
     "name": "stdout",
     "output_type": "stream",
     "text": [
      "N genes per cell lines: 19970 19996 19988\n"
     ]
    }
   ],
   "source": [
    "print('N genes per cell lines:', bassik_h23_3d.shape[0], bassik_h1975_3d.shape[0], bassik_h2009_3d.shape[0])"
   ]
  },
  {
   "cell_type": "code",
   "execution_count": 15,
   "metadata": {},
   "outputs": [
    {
     "name": "stdout",
     "output_type": "stream",
     "text": [
      "N genes w/ significant negative growth phenotype (10% FDR): 6041 5427 3971\n"
     ]
    }
   ],
   "source": [
    "print('N genes w/ significant negative growth phenotype (10% FDR):', \n",
    "      bassik_h23_3d[(bassik_h23_3d['MWU Q-val']<0.1) & (bassik_h23_3d.Tscore<0)].shape[0], \n",
    "      bassik_h1975_3d[(bassik_h1975_3d['MWU Q-val']<0.1) & (bassik_h1975_3d.Tscore<0)].shape[0],\n",
    "      bassik_h2009_3d[(bassik_h2009_3d['MWU Q-val']<0.1) & (bassik_h2009_3d.Tscore<0)].shape[0])"
   ]
  },
  {
   "cell_type": "code",
   "execution_count": 16,
   "metadata": {},
   "outputs": [
    {
     "name": "stdout",
     "output_type": "stream",
     "text": [
      "Top 2000 hits from each cell line - overlap: 1576\n"
     ]
    }
   ],
   "source": [
    "# Genes that are in top 2000 signfic hits in the 3 cell lines\n",
    "topn=2000\n",
    "f = lambda x: (x['MWU Q-val']<0.1) & (x.Tscore<0)\n",
    "top_3d_hits = pd.concat([bassik_h23_3d[bassik_h23_3d.apply(f, axis=1)].sort_values('Tscore')[:topn], \n",
    "                         bassik_h1975_3d[bassik_h1975_3d.apply(f, axis=1)].sort_values('Tscore')[:topn],\n",
    "                         bassik_h2009_3d[bassik_h2009_3d.apply(f, axis=1)].sort_values('Tscore')[:topn]])\n",
    "top_3d_hits = top_3d_hits.groupby(['EnsemblID','Symbol']).size().reset_index(name='n_cell_lines')\n",
    "print('Top 2000 hits from each cell line - overlap:', top_3d_hits[top_3d_hits.n_cell_lines>=2].shape[0])"
   ]
  },
  {
   "cell_type": "code",
   "execution_count": 17,
   "metadata": {},
   "outputs": [
    {
     "name": "stdout",
     "output_type": "stream",
     "text": [
      "Top hits: 1469\n"
     ]
    },
    {
     "data": {
      "text/html": [
       "<div>\n",
       "<style scoped>\n",
       "    .dataframe tbody tr th:only-of-type {\n",
       "        vertical-align: middle;\n",
       "    }\n",
       "\n",
       "    .dataframe tbody tr th {\n",
       "        vertical-align: top;\n",
       "    }\n",
       "\n",
       "    .dataframe thead th {\n",
       "        text-align: right;\n",
       "    }\n",
       "</style>\n",
       "<table border=\"1\" class=\"dataframe\">\n",
       "  <thead>\n",
       "    <tr style=\"text-align: right;\">\n",
       "      <th></th>\n",
       "      <th>ensembl_id</th>\n",
       "      <th>symbol</th>\n",
       "      <th>n_cell_lines</th>\n",
       "      <th>essential</th>\n",
       "    </tr>\n",
       "  </thead>\n",
       "  <tbody>\n",
       "    <tr>\n",
       "      <th>0</th>\n",
       "      <td>ENSG00000117450</td>\n",
       "      <td>PRDX1</td>\n",
       "      <td>3.0</td>\n",
       "      <td>True</td>\n",
       "    </tr>\n",
       "  </tbody>\n",
       "</table>\n",
       "</div>"
      ],
      "text/plain": [
       "        ensembl_id symbol  n_cell_lines  essential\n",
       "0  ENSG00000117450  PRDX1           3.0       True"
      ]
     },
     "execution_count": 17,
     "metadata": {},
     "output_type": "execute_result"
    }
   ],
   "source": [
    "bassik_3d = pd.merge(bassik_h23_3d[['EnsemblID','Symbol']], bassik_h1975_3d[['EnsemblID','Symbol']])\n",
    "bassik_3d = pd.merge(bassik_3d, bassik_h2009_3d[['EnsemblID','Symbol']])\n",
    "bassik_3d = pd.merge(bassik_3d, top_3d_hits, how='left').fillna({'n_cell_lines':0})\n",
    "bassik_3d = pd.merge(bassik_3d.rename(columns={'EnsemblID':'ensembl_id', 'Symbol':'symbol'}), gene_id_map[['ensembl_id']])\n",
    "bassik_3d['essential'] = bassik_3d.n_cell_lines>=2\n",
    "print('Top hits:', sum(bassik_3d.essential))\n",
    "bassik_3d[:1]"
   ]
  },
  {
   "cell_type": "markdown",
   "metadata": {},
   "source": [
    "#### 3. Blomen gene trap"
   ]
  },
  {
   "cell_type": "code",
   "execution_count": 18,
   "metadata": {},
   "outputs": [],
   "source": [
    "blomen_kbm7 = pd.read_excel(file_blomen(1), engine='openpyxl', skiprows=1)\n",
    "blomen_hap1 = pd.read_excel(file_blomen(2), engine='openpyxl', skiprows=1)"
   ]
  },
  {
   "cell_type": "code",
   "execution_count": 19,
   "metadata": {},
   "outputs": [
    {
     "name": "stdout",
     "output_type": "stream",
     "text": [
      "N. Blomen gene trap essential: 1718\n"
     ]
    },
    {
     "data": {
      "text/html": [
       "<div>\n",
       "<style scoped>\n",
       "    .dataframe tbody tr th:only-of-type {\n",
       "        vertical-align: middle;\n",
       "    }\n",
       "\n",
       "    .dataframe tbody tr th {\n",
       "        vertical-align: top;\n",
       "    }\n",
       "\n",
       "    .dataframe thead th {\n",
       "        text-align: right;\n",
       "    }\n",
       "</style>\n",
       "<table border=\"1\" class=\"dataframe\">\n",
       "  <thead>\n",
       "    <tr style=\"text-align: right;\">\n",
       "      <th></th>\n",
       "      <th>ensembl_id</th>\n",
       "      <th>essential</th>\n",
       "    </tr>\n",
       "  </thead>\n",
       "  <tbody>\n",
       "    <tr>\n",
       "      <th>0</th>\n",
       "      <td>ENSG00000127837</td>\n",
       "      <td>True</td>\n",
       "    </tr>\n",
       "  </tbody>\n",
       "</table>\n",
       "</div>"
      ],
      "text/plain": [
       "        ensembl_id  essential\n",
       "0  ENSG00000127837       True"
      ]
     },
     "execution_count": 19,
     "metadata": {},
     "output_type": "execute_result"
    }
   ],
   "source": [
    "# Identify genes essential (selected) and not essential in both cell lines (p > 0.05)\n",
    "blomen_gt = pd.merge(blomen_kbm7, blomen_hap1, on=['ENSEMBL_ID']).rename(columns={'ENSEMBL_ID':'ensembl_id'})\n",
    "blomen_gt = blomen_gt[['ensembl_id']].assign(essential = (blomen_gt.selected_x=='YES') & (blomen_gt.selected_y=='YES'))\n",
    "# Merge with my gene IDs\n",
    "blomen = pd.merge(blomen_gt, gene_id_map[['ensembl_id']])\n",
    "print('N. Blomen gene trap essential:', sum(blomen.essential))\n",
    "blomen[:1]"
   ]
  },
  {
   "cell_type": "markdown",
   "metadata": {},
   "source": [
    "### Paralogs"
   ]
  },
  {
   "cell_type": "code",
   "execution_count": 20,
   "metadata": {},
   "outputs": [
    {
     "name": "stdout",
     "output_type": "stream",
     "text": [
      "N: 12128\n"
     ]
    },
    {
     "data": {
      "text/html": [
       "<div>\n",
       "<style scoped>\n",
       "    .dataframe tbody tr th:only-of-type {\n",
       "        vertical-align: middle;\n",
       "    }\n",
       "\n",
       "    .dataframe tbody tr th {\n",
       "        vertical-align: top;\n",
       "    }\n",
       "\n",
       "    .dataframe thead th {\n",
       "        text-align: right;\n",
       "    }\n",
       "</style>\n",
       "<table border=\"1\" class=\"dataframe\">\n",
       "  <thead>\n",
       "    <tr style=\"text-align: right;\">\n",
       "      <th></th>\n",
       "      <th>symbol</th>\n",
       "      <th>n_paralogs</th>\n",
       "      <th>WGD</th>\n",
       "      <th>max_seq_id</th>\n",
       "    </tr>\n",
       "  </thead>\n",
       "  <tbody>\n",
       "    <tr>\n",
       "      <th>0</th>\n",
       "      <td>A1CF</td>\n",
       "      <td>4</td>\n",
       "      <td>True</td>\n",
       "      <td>46.8439</td>\n",
       "    </tr>\n",
       "  </tbody>\n",
       "</table>\n",
       "</div>"
      ],
      "text/plain": [
       "  symbol  n_paralogs   WGD  max_seq_id\n",
       "0   A1CF           4  True     46.8439"
      ]
     },
     "execution_count": 20,
     "metadata": {},
     "output_type": "execute_result"
    }
   ],
   "source": [
    "paralogs = pd.read_csv(file_paralog_genes).drop(columns=['entrez_id'])\n",
    "print('N:', paralogs.shape[0])\n",
    "paralogs[:1]"
   ]
  },
  {
   "cell_type": "markdown",
   "metadata": {},
   "source": [
    "### Driver genes\n",
    "#### 1. Cancer Gene Census"
   ]
  },
  {
   "cell_type": "code",
   "execution_count": 21,
   "metadata": {},
   "outputs": [
    {
     "name": "stdout",
     "output_type": "stream",
     "text": [
      "N cosmic TSGs: 349\n"
     ]
    }
   ],
   "source": [
    "cgc = pd.read_csv(file_cosmic_drivers, sep='\\t')\n",
    "cgc = cgc[['Gene Symbol','Entrez GeneId','Role in Cancer','Mutation Types','Genome Location']]\n",
    "cgc['TSG'] = cgc['Role in Cancer'].apply(lambda x: 'TSG' in x if not pd.isna(x) else True)\n",
    "cgc['OG'] = cgc['Role in Cancer'].apply(lambda x: 'oncogene' in x if not pd.isna(x) else True)\n",
    "print('N cosmic TSGs:', sum(cgc.TSG))"
   ]
  },
  {
   "cell_type": "code",
   "execution_count": 22,
   "metadata": {},
   "outputs": [
    {
     "data": {
      "text/html": [
       "<div>\n",
       "<style scoped>\n",
       "    .dataframe tbody tr th:only-of-type {\n",
       "        vertical-align: middle;\n",
       "    }\n",
       "\n",
       "    .dataframe tbody tr th {\n",
       "        vertical-align: top;\n",
       "    }\n",
       "\n",
       "    .dataframe thead th {\n",
       "        text-align: right;\n",
       "    }\n",
       "</style>\n",
       "<table border=\"1\" class=\"dataframe\">\n",
       "  <thead>\n",
       "    <tr style=\"text-align: right;\">\n",
       "      <th></th>\n",
       "      <th>Gene Symbol</th>\n",
       "      <th>Entrez GeneId</th>\n",
       "      <th>Role in Cancer</th>\n",
       "      <th>Mutation Types</th>\n",
       "      <th>Genome Location</th>\n",
       "      <th>TSG</th>\n",
       "      <th>OG</th>\n",
       "    </tr>\n",
       "  </thead>\n",
       "  <tbody>\n",
       "    <tr>\n",
       "      <th>188</th>\n",
       "      <td>DUX4L1</td>\n",
       "      <td>NaN</td>\n",
       "      <td>fusion</td>\n",
       "      <td>T</td>\n",
       "      <td>4:190084412-190085686</td>\n",
       "      <td>False</td>\n",
       "      <td>False</td>\n",
       "    </tr>\n",
       "    <tr>\n",
       "      <th>193</th>\n",
       "      <td>EIF1AX</td>\n",
       "      <td>107984923.0</td>\n",
       "      <td>NaN</td>\n",
       "      <td>Mis, S</td>\n",
       "      <td>X:20124518-20141844</td>\n",
       "      <td>True</td>\n",
       "      <td>True</td>\n",
       "    </tr>\n",
       "    <tr>\n",
       "      <th>301</th>\n",
       "      <td>HMGN2P46</td>\n",
       "      <td>NaN</td>\n",
       "      <td>fusion</td>\n",
       "      <td>T</td>\n",
       "      <td>15:45511136-45556730</td>\n",
       "      <td>False</td>\n",
       "      <td>False</td>\n",
       "    </tr>\n",
       "    <tr>\n",
       "      <th>319</th>\n",
       "      <td>IGH</td>\n",
       "      <td>3492.0</td>\n",
       "      <td>fusion</td>\n",
       "      <td>T</td>\n",
       "      <td>14:-</td>\n",
       "      <td>False</td>\n",
       "      <td>False</td>\n",
       "    </tr>\n",
       "    <tr>\n",
       "      <th>320</th>\n",
       "      <td>IGK</td>\n",
       "      <td>50802.0</td>\n",
       "      <td>fusion</td>\n",
       "      <td>T</td>\n",
       "      <td>2:-</td>\n",
       "      <td>False</td>\n",
       "      <td>False</td>\n",
       "    </tr>\n",
       "    <tr>\n",
       "      <th>321</th>\n",
       "      <td>IGL</td>\n",
       "      <td>3535.0</td>\n",
       "      <td>fusion</td>\n",
       "      <td>T</td>\n",
       "      <td>22:-</td>\n",
       "      <td>False</td>\n",
       "      <td>False</td>\n",
       "    </tr>\n",
       "    <tr>\n",
       "      <th>385</th>\n",
       "      <td>MALAT1</td>\n",
       "      <td>NaN</td>\n",
       "      <td>oncogene, TSG, fusion</td>\n",
       "      <td>T</td>\n",
       "      <td>11:65497762-65506469</td>\n",
       "      <td>True</td>\n",
       "      <td>True</td>\n",
       "    </tr>\n",
       "    <tr>\n",
       "      <th>398</th>\n",
       "      <td>MDS2</td>\n",
       "      <td>NaN</td>\n",
       "      <td>fusion</td>\n",
       "      <td>T</td>\n",
       "      <td>1:23581495-23640568</td>\n",
       "      <td>False</td>\n",
       "      <td>False</td>\n",
       "    </tr>\n",
       "    <tr>\n",
       "      <th>684</th>\n",
       "      <td>TRA</td>\n",
       "      <td>6955.0</td>\n",
       "      <td>fusion</td>\n",
       "      <td>T</td>\n",
       "      <td>14:-</td>\n",
       "      <td>False</td>\n",
       "      <td>False</td>\n",
       "    </tr>\n",
       "    <tr>\n",
       "      <th>686</th>\n",
       "      <td>TRB</td>\n",
       "      <td>6957.0</td>\n",
       "      <td>fusion</td>\n",
       "      <td>T</td>\n",
       "      <td>7:-</td>\n",
       "      <td>False</td>\n",
       "      <td>False</td>\n",
       "    </tr>\n",
       "    <tr>\n",
       "      <th>687</th>\n",
       "      <td>TRD</td>\n",
       "      <td>6964.0</td>\n",
       "      <td>fusion</td>\n",
       "      <td>T</td>\n",
       "      <td>14:-</td>\n",
       "      <td>False</td>\n",
       "      <td>False</td>\n",
       "    </tr>\n",
       "  </tbody>\n",
       "</table>\n",
       "</div>"
      ],
      "text/plain": [
       "    Gene Symbol  Entrez GeneId         Role in Cancer Mutation Types  \\\n",
       "188      DUX4L1            NaN                 fusion              T   \n",
       "193      EIF1AX    107984923.0                    NaN         Mis, S   \n",
       "301    HMGN2P46            NaN                 fusion              T   \n",
       "319         IGH         3492.0                 fusion              T   \n",
       "320         IGK        50802.0                 fusion              T   \n",
       "321         IGL         3535.0                 fusion              T   \n",
       "385      MALAT1            NaN  oncogene, TSG, fusion              T   \n",
       "398        MDS2            NaN                 fusion              T   \n",
       "684         TRA         6955.0                 fusion              T   \n",
       "686         TRB         6957.0                 fusion              T   \n",
       "687         TRD         6964.0                 fusion              T   \n",
       "\n",
       "           Genome Location    TSG     OG  \n",
       "188  4:190084412-190085686  False  False  \n",
       "193    X:20124518-20141844   True   True  \n",
       "301   15:45511136-45556730  False  False  \n",
       "319                   14:-  False  False  \n",
       "320                    2:-  False  False  \n",
       "321                   22:-  False  False  \n",
       "385   11:65497762-65506469   True   True  \n",
       "398    1:23581495-23640568  False  False  \n",
       "684                   14:-  False  False  \n",
       "686                    7:-  False  False  \n",
       "687                   14:-  False  False  "
      ]
     },
     "metadata": {},
     "output_type": "display_data"
    },
    {
     "data": {
      "text/html": [
       "<div>\n",
       "<style scoped>\n",
       "    .dataframe tbody tr th:only-of-type {\n",
       "        vertical-align: middle;\n",
       "    }\n",
       "\n",
       "    .dataframe tbody tr th {\n",
       "        vertical-align: top;\n",
       "    }\n",
       "\n",
       "    .dataframe thead th {\n",
       "        text-align: right;\n",
       "    }\n",
       "</style>\n",
       "<table border=\"1\" class=\"dataframe\">\n",
       "  <thead>\n",
       "    <tr style=\"text-align: right;\">\n",
       "      <th></th>\n",
       "      <th>Gene Symbol</th>\n",
       "      <th>Entrez GeneId</th>\n",
       "      <th>Role in Cancer</th>\n",
       "      <th>Mutation Types</th>\n",
       "      <th>Genome Location</th>\n",
       "      <th>TSG</th>\n",
       "      <th>OG</th>\n",
       "    </tr>\n",
       "  </thead>\n",
       "  <tbody>\n",
       "    <tr>\n",
       "      <th>193</th>\n",
       "      <td>EIF1AX</td>\n",
       "      <td>107984923.0</td>\n",
       "      <td>NaN</td>\n",
       "      <td>Mis, S</td>\n",
       "      <td>X:20124518-20141844</td>\n",
       "      <td>True</td>\n",
       "      <td>True</td>\n",
       "    </tr>\n",
       "  </tbody>\n",
       "</table>\n",
       "</div>"
      ],
      "text/plain": [
       "    Gene Symbol  Entrez GeneId Role in Cancer Mutation Types  \\\n",
       "193      EIF1AX    107984923.0            NaN         Mis, S   \n",
       "\n",
       "         Genome Location   TSG    OG  \n",
       "193  X:20124518-20141844  True  True  "
      ]
     },
     "metadata": {},
     "output_type": "display_data"
    }
   ],
   "source": [
    "# Missing IDs - not included\n",
    "display(cgc[~cgc['Entrez GeneId'].isin(gene_id_map.entrez_id)])\n",
    "display(cgc[~cgc['Entrez GeneId'].isin(gene_id_map.entrez_id) & cgc['Gene Symbol'].isin(gene_id_map.symbol)])"
   ]
  },
  {
   "cell_type": "markdown",
   "metadata": {},
   "source": [
    "#### 2. Bailey et al - based on MC3 somatic mutation calls"
   ]
  },
  {
   "cell_type": "code",
   "execution_count": 23,
   "metadata": {},
   "outputs": [
    {
     "data": {
      "text/html": [
       "<div>\n",
       "<style scoped>\n",
       "    .dataframe tbody tr th:only-of-type {\n",
       "        vertical-align: middle;\n",
       "    }\n",
       "\n",
       "    .dataframe tbody tr th {\n",
       "        vertical-align: top;\n",
       "    }\n",
       "\n",
       "    .dataframe thead th {\n",
       "        text-align: right;\n",
       "    }\n",
       "</style>\n",
       "<table border=\"1\" class=\"dataframe\">\n",
       "  <thead>\n",
       "    <tr style=\"text-align: right;\">\n",
       "      <th></th>\n",
       "      <th>Gene</th>\n",
       "      <th>Cancer</th>\n",
       "      <th>KEY</th>\n",
       "      <th>role</th>\n",
       "      <th>Decision</th>\n",
       "      <th>Tissue Frequency</th>\n",
       "      <th>Pancan Frequency</th>\n",
       "      <th>Consensus Score</th>\n",
       "      <th>Correlation adusted score</th>\n",
       "      <th>Novel</th>\n",
       "      <th>...</th>\n",
       "      <th>Unnamed: 16</th>\n",
       "      <th>Unnamed: 17</th>\n",
       "      <th>Unnamed: 18</th>\n",
       "      <th>Unnamed: 19</th>\n",
       "      <th>Unnamed: 20</th>\n",
       "      <th>Unnamed: 21</th>\n",
       "      <th>Unnamed: 22</th>\n",
       "      <th>Unnamed: 23</th>\n",
       "      <th>Unnamed: 24</th>\n",
       "      <th>Unnamed: 25</th>\n",
       "    </tr>\n",
       "  </thead>\n",
       "  <tbody>\n",
       "    <tr>\n",
       "      <th>229</th>\n",
       "      <td>FAM46D</td>\n",
       "      <td>STAD</td>\n",
       "      <td>FAM46D_STAD</td>\n",
       "      <td>oncogene</td>\n",
       "      <td>official</td>\n",
       "      <td>0.019608</td>\n",
       "      <td>0.011014</td>\n",
       "      <td>1.0</td>\n",
       "      <td>0.000000</td>\n",
       "      <td>1.0</td>\n",
       "      <td>...</td>\n",
       "      <td>NaN</td>\n",
       "      <td>NaN</td>\n",
       "      <td>NaN</td>\n",
       "      <td>NaN</td>\n",
       "      <td>NaN</td>\n",
       "      <td>NaN</td>\n",
       "      <td>NaN</td>\n",
       "      <td>NaN</td>\n",
       "      <td>NaN</td>\n",
       "      <td>NaN</td>\n",
       "    </tr>\n",
       "    <tr>\n",
       "      <th>282</th>\n",
       "      <td>H3F3A</td>\n",
       "      <td>PANCAN</td>\n",
       "      <td>H3F3A_PANCAN</td>\n",
       "      <td>possible oncogene</td>\n",
       "      <td>official</td>\n",
       "      <td>NaN</td>\n",
       "      <td>0.003414</td>\n",
       "      <td>1.5</td>\n",
       "      <td>1.500000</td>\n",
       "      <td>0.0</td>\n",
       "      <td>...</td>\n",
       "      <td>NaN</td>\n",
       "      <td>NaN</td>\n",
       "      <td>NaN</td>\n",
       "      <td>NaN</td>\n",
       "      <td>NaN</td>\n",
       "      <td>NaN</td>\n",
       "      <td>NaN</td>\n",
       "      <td>NaN</td>\n",
       "      <td>NaN</td>\n",
       "      <td>NaN</td>\n",
       "    </tr>\n",
       "    <tr>\n",
       "      <th>283</th>\n",
       "      <td>H3F3C</td>\n",
       "      <td>PANCAN</td>\n",
       "      <td>H3F3C_PANCAN</td>\n",
       "      <td>NaN</td>\n",
       "      <td>official</td>\n",
       "      <td>NaN</td>\n",
       "      <td>0.007049</td>\n",
       "      <td>0.5</td>\n",
       "      <td>0.000000</td>\n",
       "      <td>0.0</td>\n",
       "      <td>...</td>\n",
       "      <td>NaN</td>\n",
       "      <td>NaN</td>\n",
       "      <td>NaN</td>\n",
       "      <td>NaN</td>\n",
       "      <td>NaN</td>\n",
       "      <td>NaN</td>\n",
       "      <td>NaN</td>\n",
       "      <td>NaN</td>\n",
       "      <td>NaN</td>\n",
       "      <td>NaN</td>\n",
       "    </tr>\n",
       "    <tr>\n",
       "      <th>285</th>\n",
       "      <td>HIST1H1C</td>\n",
       "      <td>PANCAN</td>\n",
       "      <td>HIST1H1C_PANCAN</td>\n",
       "      <td>NaN</td>\n",
       "      <td>rescued</td>\n",
       "      <td>NaN</td>\n",
       "      <td>0.011345</td>\n",
       "      <td>0.0</td>\n",
       "      <td>NaN</td>\n",
       "      <td>0.0</td>\n",
       "      <td>...</td>\n",
       "      <td>NaN</td>\n",
       "      <td>NaN</td>\n",
       "      <td>NaN</td>\n",
       "      <td>NaN</td>\n",
       "      <td>NaN</td>\n",
       "      <td>NaN</td>\n",
       "      <td>NaN</td>\n",
       "      <td>NaN</td>\n",
       "      <td>NaN</td>\n",
       "      <td>NaN</td>\n",
       "    </tr>\n",
       "    <tr>\n",
       "      <th>286</th>\n",
       "      <td>HIST1H1E</td>\n",
       "      <td>DLBC</td>\n",
       "      <td>HIST1H1E_DLBC</td>\n",
       "      <td>possible oncogene</td>\n",
       "      <td>official</td>\n",
       "      <td>0.270270</td>\n",
       "      <td>0.010794</td>\n",
       "      <td>2.0</td>\n",
       "      <td>1.195172</td>\n",
       "      <td>0.0</td>\n",
       "      <td>...</td>\n",
       "      <td>NaN</td>\n",
       "      <td>NaN</td>\n",
       "      <td>NaN</td>\n",
       "      <td>NaN</td>\n",
       "      <td>NaN</td>\n",
       "      <td>NaN</td>\n",
       "      <td>NaN</td>\n",
       "      <td>NaN</td>\n",
       "      <td>NaN</td>\n",
       "      <td>NaN</td>\n",
       "    </tr>\n",
       "    <tr>\n",
       "      <th>287</th>\n",
       "      <td>HIST1H1E</td>\n",
       "      <td>LIHC</td>\n",
       "      <td>HIST1H1E_LIHC</td>\n",
       "      <td>possible tsg</td>\n",
       "      <td>official</td>\n",
       "      <td>0.014124</td>\n",
       "      <td>0.010794</td>\n",
       "      <td>2.0</td>\n",
       "      <td>1.456097</td>\n",
       "      <td>0.0</td>\n",
       "      <td>...</td>\n",
       "      <td>NaN</td>\n",
       "      <td>NaN</td>\n",
       "      <td>NaN</td>\n",
       "      <td>NaN</td>\n",
       "      <td>NaN</td>\n",
       "      <td>NaN</td>\n",
       "      <td>NaN</td>\n",
       "      <td>NaN</td>\n",
       "      <td>NaN</td>\n",
       "      <td>NaN</td>\n",
       "    </tr>\n",
       "    <tr>\n",
       "      <th>600</th>\n",
       "      <td>RQCD1</td>\n",
       "      <td>PANCAN</td>\n",
       "      <td>RQCD1_PANCAN</td>\n",
       "      <td>possible oncogene</td>\n",
       "      <td>official</td>\n",
       "      <td>NaN</td>\n",
       "      <td>0.003745</td>\n",
       "      <td>1.5</td>\n",
       "      <td>1.500000</td>\n",
       "      <td>1.0</td>\n",
       "      <td>...</td>\n",
       "      <td>NaN</td>\n",
       "      <td>NaN</td>\n",
       "      <td>NaN</td>\n",
       "      <td>NaN</td>\n",
       "      <td>NaN</td>\n",
       "      <td>NaN</td>\n",
       "      <td>NaN</td>\n",
       "      <td>NaN</td>\n",
       "      <td>NaN</td>\n",
       "      <td>NaN</td>\n",
       "    </tr>\n",
       "    <tr>\n",
       "      <th>601</th>\n",
       "      <td>RQCD1</td>\n",
       "      <td>SKCM</td>\n",
       "      <td>RQCD1_SKCM</td>\n",
       "      <td>oncogene</td>\n",
       "      <td>official</td>\n",
       "      <td>0.030806</td>\n",
       "      <td>0.003745</td>\n",
       "      <td>3.0</td>\n",
       "      <td>3.000000</td>\n",
       "      <td>1.0</td>\n",
       "      <td>...</td>\n",
       "      <td>NaN</td>\n",
       "      <td>NaN</td>\n",
       "      <td>NaN</td>\n",
       "      <td>NaN</td>\n",
       "      <td>NaN</td>\n",
       "      <td>NaN</td>\n",
       "      <td>NaN</td>\n",
       "      <td>NaN</td>\n",
       "      <td>NaN</td>\n",
       "      <td>NaN</td>\n",
       "    </tr>\n",
       "    <tr>\n",
       "      <th>665</th>\n",
       "      <td>TCEB1</td>\n",
       "      <td>KIRC</td>\n",
       "      <td>TCEB1_KIRC</td>\n",
       "      <td>possible tsg</td>\n",
       "      <td>official</td>\n",
       "      <td>0.010870</td>\n",
       "      <td>0.001872</td>\n",
       "      <td>1.5</td>\n",
       "      <td>1.500000</td>\n",
       "      <td>0.0</td>\n",
       "      <td>...</td>\n",
       "      <td>NaN</td>\n",
       "      <td>NaN</td>\n",
       "      <td>NaN</td>\n",
       "      <td>NaN</td>\n",
       "      <td>NaN</td>\n",
       "      <td>NaN</td>\n",
       "      <td>NaN</td>\n",
       "      <td>NaN</td>\n",
       "      <td>NaN</td>\n",
       "      <td>NaN</td>\n",
       "    </tr>\n",
       "    <tr>\n",
       "      <th>721</th>\n",
       "      <td>WHSC1</td>\n",
       "      <td>LIHC</td>\n",
       "      <td>WHSC1_LIHC</td>\n",
       "      <td>oncogene</td>\n",
       "      <td>official</td>\n",
       "      <td>0.025424</td>\n",
       "      <td>0.015640</td>\n",
       "      <td>1.5</td>\n",
       "      <td>1.500000</td>\n",
       "      <td>0.0</td>\n",
       "      <td>...</td>\n",
       "      <td>NaN</td>\n",
       "      <td>NaN</td>\n",
       "      <td>NaN</td>\n",
       "      <td>NaN</td>\n",
       "      <td>NaN</td>\n",
       "      <td>NaN</td>\n",
       "      <td>NaN</td>\n",
       "      <td>NaN</td>\n",
       "      <td>NaN</td>\n",
       "      <td>NaN</td>\n",
       "    </tr>\n",
       "  </tbody>\n",
       "</table>\n",
       "<p>10 rows × 26 columns</p>\n",
       "</div>"
      ],
      "text/plain": [
       "         Gene  Cancer              KEY               role  Decision  \\\n",
       "229    FAM46D    STAD      FAM46D_STAD           oncogene  official   \n",
       "282     H3F3A  PANCAN     H3F3A_PANCAN  possible oncogene  official   \n",
       "283     H3F3C  PANCAN     H3F3C_PANCAN                NaN  official   \n",
       "285  HIST1H1C  PANCAN  HIST1H1C_PANCAN                NaN   rescued   \n",
       "286  HIST1H1E    DLBC    HIST1H1E_DLBC  possible oncogene  official   \n",
       "287  HIST1H1E    LIHC    HIST1H1E_LIHC       possible tsg  official   \n",
       "600     RQCD1  PANCAN     RQCD1_PANCAN  possible oncogene  official   \n",
       "601     RQCD1    SKCM       RQCD1_SKCM           oncogene  official   \n",
       "665     TCEB1    KIRC       TCEB1_KIRC       possible tsg  official   \n",
       "721     WHSC1    LIHC       WHSC1_LIHC           oncogene  official   \n",
       "\n",
       "     Tissue Frequency  Pancan Frequency  Consensus Score  \\\n",
       "229          0.019608          0.011014              1.0   \n",
       "282               NaN          0.003414              1.5   \n",
       "283               NaN          0.007049              0.5   \n",
       "285               NaN          0.011345              0.0   \n",
       "286          0.270270          0.010794              2.0   \n",
       "287          0.014124          0.010794              2.0   \n",
       "600               NaN          0.003745              1.5   \n",
       "601          0.030806          0.003745              3.0   \n",
       "665          0.010870          0.001872              1.5   \n",
       "721          0.025424          0.015640              1.5   \n",
       "\n",
       "     Correlation adusted score  Novel  ... Unnamed: 16 Unnamed: 17  \\\n",
       "229                   0.000000    1.0  ...         NaN         NaN   \n",
       "282                   1.500000    0.0  ...         NaN         NaN   \n",
       "283                   0.000000    0.0  ...         NaN         NaN   \n",
       "285                        NaN    0.0  ...         NaN         NaN   \n",
       "286                   1.195172    0.0  ...         NaN         NaN   \n",
       "287                   1.456097    0.0  ...         NaN         NaN   \n",
       "600                   1.500000    1.0  ...         NaN         NaN   \n",
       "601                   3.000000    1.0  ...         NaN         NaN   \n",
       "665                   1.500000    0.0  ...         NaN         NaN   \n",
       "721                   1.500000    0.0  ...         NaN         NaN   \n",
       "\n",
       "     Unnamed: 18  Unnamed: 19  Unnamed: 20  Unnamed: 21  Unnamed: 22  \\\n",
       "229          NaN          NaN          NaN          NaN          NaN   \n",
       "282          NaN          NaN          NaN          NaN          NaN   \n",
       "283          NaN          NaN          NaN          NaN          NaN   \n",
       "285          NaN          NaN          NaN          NaN          NaN   \n",
       "286          NaN          NaN          NaN          NaN          NaN   \n",
       "287          NaN          NaN          NaN          NaN          NaN   \n",
       "600          NaN          NaN          NaN          NaN          NaN   \n",
       "601          NaN          NaN          NaN          NaN          NaN   \n",
       "665          NaN          NaN          NaN          NaN          NaN   \n",
       "721          NaN          NaN          NaN          NaN          NaN   \n",
       "\n",
       "     Unnamed: 23  Unnamed: 24  Unnamed: 25  \n",
       "229          NaN          NaN          NaN  \n",
       "282          NaN          NaN          NaN  \n",
       "283          NaN          NaN          NaN  \n",
       "285          NaN          NaN          NaN  \n",
       "286          NaN          NaN          NaN  \n",
       "287          NaN          NaN          NaN  \n",
       "600          NaN          NaN          NaN  \n",
       "601          NaN          NaN          NaN  \n",
       "665          NaN          NaN          NaN  \n",
       "721          NaN          NaN          NaN  \n",
       "\n",
       "[10 rows x 26 columns]"
      ]
     },
     "metadata": {},
     "output_type": "display_data"
    },
    {
     "name": "stdout",
     "output_type": "stream",
     "text": [
      "N Bailey TSGs: 202\n",
      "N Bailey et al. OGs: 156\n"
     ]
    }
   ],
   "source": [
    "bailey = pd.read_excel(file_bailey_drivers, sheet_name='Table S1',engine='openpyxl',skiprows=3).dropna(subset=['Gene'])\n",
    "bailey = bailey.rename(columns={'Tumor suppressor or oncogene prediction (by 20/20+)':'role'})\n",
    "\n",
    "# MANUAL CURATION OF NEW SYMBOLS\n",
    "display(bailey[~bailey.Gene.isin(gene_id_map.symbol)])\n",
    "bailey = bailey.replace({'FAM46D':'TENT5D', 'H3F3A':'H3-3A', 'H3F3C':'H3-5', 'HIST1H1C':'H1-2', 'HIST1H1E':'H1-4',\n",
    "                         'RQCD1':'CNOT9', 'TCEB1':'ELOC', 'WHSC1':'NSD2'})\n",
    "\n",
    "bailey['TSG'] = bailey['role'].isin(['tsg','possible tsg']) | bailey['role'].isna()\n",
    "bailey['OG'] = bailey['role'].isin(['oncogene','possible oncogene']) | bailey['role'].isna()\n",
    "print('N Bailey TSGs:', bailey[bailey.TSG].Gene.nunique())\n",
    "print('N Bailey et al. OGs:', bailey[bailey.OG].Gene.nunique())"
   ]
  },
  {
   "cell_type": "markdown",
   "metadata": {},
   "source": [
    "### Merge into one gene annotations table"
   ]
  },
  {
   "cell_type": "code",
   "execution_count": 24,
   "metadata": {},
   "outputs": [
    {
     "name": "stdout",
     "output_type": "stream",
     "text": [
      "N: 17572\n",
      "TSGs: 411\n",
      "OGs: 391\n",
      "Drivers: 652\n",
      "Paralogs: 63.08%\n",
      "WGDs: 59.44% -- 37.49%\n",
      "Sets of essential genes: 969 1664 1429\n"
     ]
    },
    {
     "data": {
      "text/html": [
       "<div>\n",
       "<style scoped>\n",
       "    .dataframe tbody tr th:only-of-type {\n",
       "        vertical-align: middle;\n",
       "    }\n",
       "\n",
       "    .dataframe tbody tr th {\n",
       "        vertical-align: top;\n",
       "    }\n",
       "\n",
       "    .dataframe thead th {\n",
       "        text-align: right;\n",
       "    }\n",
       "</style>\n",
       "<table border=\"1\" class=\"dataframe\">\n",
       "  <thead>\n",
       "    <tr style=\"text-align: right;\">\n",
       "      <th></th>\n",
       "      <th>symbol</th>\n",
       "      <th>entrez_id</th>\n",
       "      <th>ensembl_id</th>\n",
       "      <th>chr</th>\n",
       "      <th>cds_from</th>\n",
       "      <th>cds_to</th>\n",
       "      <th>ccds_id</th>\n",
       "      <th>cds_len</th>\n",
       "      <th>cds_mid</th>\n",
       "      <th>n_paralogs</th>\n",
       "      <th>...</th>\n",
       "      <th>max_seq_id</th>\n",
       "      <th>paralog</th>\n",
       "      <th>depmap_ess</th>\n",
       "      <th>depmap_ess_cat</th>\n",
       "      <th>ess_gt</th>\n",
       "      <th>ess_3D</th>\n",
       "      <th>TSG_CGC</th>\n",
       "      <th>TSG_Bailey</th>\n",
       "      <th>TSG</th>\n",
       "      <th>OG</th>\n",
       "    </tr>\n",
       "  </thead>\n",
       "  <tbody>\n",
       "    <tr>\n",
       "      <th>0</th>\n",
       "      <td>A1BG</td>\n",
       "      <td>1</td>\n",
       "      <td>ENSG00000121410</td>\n",
       "      <td>19</td>\n",
       "      <td>58858387</td>\n",
       "      <td>58864802</td>\n",
       "      <td>CCDS12976</td>\n",
       "      <td>6415</td>\n",
       "      <td>58861594.5</td>\n",
       "      <td>NaN</td>\n",
       "      <td>...</td>\n",
       "      <td>NaN</td>\n",
       "      <td>False</td>\n",
       "      <td>False</td>\n",
       "      <td>never</td>\n",
       "      <td>False</td>\n",
       "      <td>False</td>\n",
       "      <td>False</td>\n",
       "      <td>False</td>\n",
       "      <td>False</td>\n",
       "      <td>False</td>\n",
       "    </tr>\n",
       "  </tbody>\n",
       "</table>\n",
       "<p>1 rows × 21 columns</p>\n",
       "</div>"
      ],
      "text/plain": [
       "  symbol  entrez_id       ensembl_id  chr  cds_from    cds_to    ccds_id  \\\n",
       "0   A1BG          1  ENSG00000121410   19  58858387  58864802  CCDS12976   \n",
       "\n",
       "   cds_len     cds_mid  n_paralogs  ... max_seq_id  paralog  depmap_ess  \\\n",
       "0     6415  58861594.5         NaN  ...        NaN    False       False   \n",
       "\n",
       "  depmap_ess_cat ess_gt ess_3D TSG_CGC  TSG_Bailey    TSG     OG  \n",
       "0          never  False  False   False       False  False  False  \n",
       "\n",
       "[1 rows x 21 columns]"
      ]
     },
     "metadata": {},
     "output_type": "display_data"
    }
   ],
   "source": [
    "genes = pd.merge(gene_id_map, ccds) # Don't consider genes not in CCDS - will never map to these\n",
    "genes['cds_mid'] = genes.apply(lambda x: x.cds_from+(x.cds_len*0.5), axis=1)\n",
    "genes = genes[~genes['chr'].isin(['X','Y'])].astype({'chr':int}) # Only include autosome genes\n",
    "print('N:', genes.shape[0])\n",
    "\n",
    "# Add paralog info\n",
    "genes = pd.merge(genes, paralogs, how='left', indicator='paralog')\n",
    "genes['paralog'] = genes.paralog=='both'\n",
    "\n",
    "# --- ESSENTIALITY ---\n",
    "# From DepMap 20Q2 (my analysis)\n",
    "genes = pd.merge(genes, depmap.astype({'entrez_id':int})[['entrez_id','depmap_ess','depmap_ess_cat']], how='left')\n",
    "\n",
    "# From Blomen gene trap screen\n",
    "genes = pd.merge(genes, blomen.rename(columns={'essential':'ess_gt'}), how='left')\n",
    "\n",
    "# From 3D CRISPR\n",
    "genes = pd.merge(genes, bassik_3d[['ensembl_id','essential']].rename(columns={'essential':'ess_3D'}), how='left')\n",
    "\n",
    "# Add TSG + OG annotations\n",
    "genes['TSG_CGC'] = genes.entrez_id.isin(cgc[cgc.TSG]['Entrez GeneId'])\n",
    "genes['TSG_Bailey'] = genes.symbol.isin(bailey[bailey.TSG]['Gene'])\n",
    "genes['TSG'] =  genes['TSG_CGC'] | genes['TSG_Bailey']\n",
    "genes['OG'] = genes.entrez_id.isin(cgc[cgc.OG]['Entrez GeneId']) | genes.symbol.isin(bailey[bailey.OG]['Gene'])\n",
    "\n",
    "print('TSGs:', sum(genes.TSG))\n",
    "print('OGs:', sum(genes.OG))\n",
    "print('Drivers:', sum(genes.OG | genes.TSG))\n",
    "#print('Passengers in driver pair:', sum(~genes.OG & ~genes.TSG & genes.in_driver_pair))\n",
    "print('Paralogs: %.2f%%' % (sum(genes.paralog)/genes.shape[0]*100))\n",
    "print('WGDs: %.2f%% -- %.2f%%' % (sum(genes.WGD==True)/sum(genes.paralog)*100, sum(genes.WGD==True)/genes.shape[0]*100))\n",
    "print('Sets of essential genes:', sum(genes.depmap_ess==True), sum(genes.ess_gt==True), sum(genes.ess_3D==True))\n",
    "display(genes[:1])"
   ]
  },
  {
   "cell_type": "code",
   "execution_count": 25,
   "metadata": {},
   "outputs": [
    {
     "name": "stdout",
     "output_type": "stream",
     "text": [
      "TSGs that are paralogs: 69.10%\n",
      "FET OR=1.32, p=0.0112\n"
     ]
    }
   ],
   "source": [
    "print('TSGs that are paralogs: %.2f%%' % (sum(genes.paralog & genes.TSG)/sum(genes.TSG)*100))\n",
    "ctab = pd.crosstab(genes.paralog, genes.TSG)\n",
    "print('FET OR=%.2f, p=%.4f' % stats.fisher_exact(ctab))"
   ]
  },
  {
   "cell_type": "code",
   "execution_count": 26,
   "metadata": {},
   "outputs": [
    {
     "name": "stdout",
     "output_type": "stream",
     "text": [
      "OGs that are paralogs: 82.61%\n",
      "FET OR=2.83, p=1.8119e-17\n"
     ]
    }
   ],
   "source": [
    "print('OGs that are paralogs: %.2f%%' % (sum(genes.paralog & genes.OG)/sum(genes.OG)*100))\n",
    "ctab = pd.crosstab(genes.paralog, genes.OG)\n",
    "print('FET OR=%.2f, p=%.4e' % stats.fisher_exact(ctab))"
   ]
  },
  {
   "cell_type": "code",
   "execution_count": 27,
   "metadata": {},
   "outputs": [
    {
     "data": {
      "image/png": "[encoded data removed]",
      "text/plain": [
       "<Figure size 300x200 with 1 Axes>"
      ]
     },
     "metadata": {},
     "output_type": "display_data"
    }
   ],
   "source": [
    "f, ax = plt.subplots(1, 1, figsize=(3,2))\n",
    "v = venn2([set(genes[genes.TSG_CGC].symbol.values), set(genes[genes.TSG_Bailey].symbol.values)], ('CGC', 'Bailey et al'))"
   ]
  },
  {
   "cell_type": "code",
   "execution_count": 28,
   "metadata": {},
   "outputs": [
    {
     "data": {
      "image/png": "[encoded data removed]",
      "text/plain": [
       "<Figure size 350x350 with 1 Axes>"
      ]
     },
     "metadata": {},
     "output_type": "display_data"
    }
   ],
   "source": [
    "f, ax = plt.subplots(1, 1, figsize=(3.5,3.5))\n",
    "df = genes.dropna(subset=['depmap_ess','ess_3D','ess_gt'])\n",
    "v = venn3([set(df[df.ess_3D].symbol.values), set(df[df.ess_gt].symbol.values), set(df[df.depmap_ess].symbol.values)],\n",
    "          ('3D CRISPR', 'Gene trap', 'DepMap'))"
   ]
  },
  {
   "cell_type": "markdown",
   "metadata": {},
   "source": [
    "#### Genes fully within coding region of a TSG"
   ]
  },
  {
   "cell_type": "code",
   "execution_count": 29,
   "metadata": {},
   "outputs": [
    {
     "name": "stdout",
     "output_type": "stream",
     "text": [
      "16 - ['SDCCAG8' 'B3GALT2' 'LRRTM1' 'MBOAT4' 'FNTB' 'ANGPTL7' 'TOE1' 'MAB21L1'\n",
      " 'EVI2A' 'EVI2B' 'OMG' 'INSRR' 'SH2D2A' 'FAM20A' 'LPAR6' 'LRRC4']\n"
     ]
    }
   ],
   "source": [
    "# Identify any genes overlapping each freq del TSG\n",
    "genes_within_drivers = pd.DataFrame()\n",
    "for row in genes[genes.TSG | genes.OG].iterrows():\n",
    "    df = genes[(genes.symbol != row[1].symbol) & (genes.chr == row[1].chr) & \n",
    "               (((genes.cds_from >= row[1].cds_from) & (genes.cds_from <= row[1].cds_to)) |\n",
    "                ((genes.cds_to >= row[1].cds_from) & (genes.cds_to <= row[1].cds_to)))][['symbol','paralog']]\n",
    "    if df.shape[0]>0: genes_within_drivers = pd.concat([genes_within_drivers, df.assign(driver = row[1].symbol)])\n",
    "print(genes_within_drivers.shape[0],'-',genes_within_drivers.symbol.unique())\n",
    "genes['within_driver'] = genes.symbol.isin(genes_within_drivers.symbol)"
   ]
  },
  {
   "cell_type": "markdown",
   "metadata": {},
   "source": [
    "#### Genes outside of ASCAT bounds\n",
    "These genes could never be counted as fully deleted in the TCGA data"
   ]
  },
  {
   "cell_type": "code",
   "execution_count": 30,
   "metadata": {},
   "outputs": [
    {
     "data": {
      "text/html": [
       "<div>\n",
       "<style scoped>\n",
       "    .dataframe tbody tr th:only-of-type {\n",
       "        vertical-align: middle;\n",
       "    }\n",
       "\n",
       "    .dataframe tbody tr th {\n",
       "        vertical-align: top;\n",
       "    }\n",
       "\n",
       "    .dataframe thead th {\n",
       "        text-align: right;\n",
       "    }\n",
       "</style>\n",
       "<table border=\"1\" class=\"dataframe\">\n",
       "  <thead>\n",
       "    <tr style=\"text-align: right;\">\n",
       "      <th></th>\n",
       "      <th>startpos</th>\n",
       "      <th>endpos</th>\n",
       "      <th>cent_start</th>\n",
       "      <th>cent_end</th>\n",
       "    </tr>\n",
       "    <tr>\n",
       "      <th>chr</th>\n",
       "      <th></th>\n",
       "      <th></th>\n",
       "      <th></th>\n",
       "      <th></th>\n",
       "    </tr>\n",
       "  </thead>\n",
       "  <tbody>\n",
       "    <tr>\n",
       "      <th>1</th>\n",
       "      <td>61735</td>\n",
       "      <td>249224388</td>\n",
       "      <td>121482979.0</td>\n",
       "      <td>144007049.0</td>\n",
       "    </tr>\n",
       "  </tbody>\n",
       "</table>\n",
       "</div>"
      ],
      "text/plain": [
       "     startpos     endpos   cent_start     cent_end\n",
       "chr                                               \n",
       "1       61735  249224388  121482979.0  144007049.0"
      ]
     },
     "execution_count": 30,
     "metadata": {},
     "output_type": "execute_result"
    }
   ],
   "source": [
    "seg_bounds = pd.read_csv(file_ascat_segment_bounds, index_col=0)\n",
    "seg_bounds[:1]"
   ]
  },
  {
   "cell_type": "code",
   "execution_count": 31,
   "metadata": {},
   "outputs": [
    {
     "name": "stdout",
     "output_type": "stream",
     "text": [
      "6 - ['OR4F3' 'ODF3' 'SCGB1C1' 'ANHX' 'ZNF268' 'METRNL']\n"
     ]
    }
   ],
   "source": [
    "outside_bounds = pd.DataFrame()\n",
    "for c in range(1,22):\n",
    "    outside_bounds = pd.concat([outside_bounds, genes[(genes.chr==c) &  ((genes.cds_from < seg_bounds.loc[c].startpos) | \n",
    "                                                                         (genes.cds_to > seg_bounds.loc[c].endpos))]])\n",
    "genes['outside_bounds'] = genes.symbol.isin(outside_bounds.symbol)\n",
    "print(outside_bounds.shape[0],'-',outside_bounds.symbol.unique())"
   ]
  },
  {
   "cell_type": "code",
   "execution_count": 32,
   "metadata": {},
   "outputs": [],
   "source": [
    "genes.to_csv(file_gene_annot, index=0)"
   ]
  },
  {
   "cell_type": "code",
   "execution_count": null,
   "metadata": {},
   "outputs": [],
   "source": []
  }
 ],
 "metadata": {
  "kernelspec": {
   "display_name": "Python 3 (ipykernel)",
   "language": "python",
   "name": "python3"
  },
  "language_info": {
   "codemirror_mode": {
    "name": "ipython",
    "version": 3
   },
   "file_extension": ".py",
   "mimetype": "text/x-python",
   "name": "python",
   "nbconvert_exporter": "python",
   "pygments_lexer": "ipython3",
   "version": "3.7.16"
  }
 },
 "nbformat": 4,
 "nbformat_minor": 4
}
